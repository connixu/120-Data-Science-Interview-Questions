{
  "nbformat": 4,
  "nbformat_minor": 0,
  "metadata": {
    "colab": {
      "name": "New_Cascade_Models.ipynb",
      "provenance": [],
      "collapsed_sections": [
        "If9LILaOOKWH",
        "2107zlJlbUEk",
        "gNw4VcVebh5x",
        "TvHIzbghfOwx",
        "ftGgn1Pcfq1o",
        "m797g9URg3Yw",
        "ENHOxZMuhL63",
        "-8n767loMjLG",
        "j36bbnzGl8Sk",
        "E_pU71U9oOjI",
        "QVJ5xkwsLqIl",
        "Z857qVzipQBn",
        "mv4f-ygFpQBo",
        "pSItJsTKIe1q",
        "6hAnwoO-qb2B",
        "amBWp3Cmqb2C",
        "L0b9ZlA-siMD",
        "r7lxatWFsiMF",
        "IN1WeUsfIxw0",
        "fuBdoNVNuITa",
        "DKEv4--uuITb",
        "rVAxo5HEf0Dr",
        "tHnR0ZLtwEsU",
        "dWpJ61FTwEsW",
        "QTyKhESwKsj9",
        "CzSnXFl5yKGU",
        "gnmP4Y9kyKGU",
        "UN8Iv9o5Med7",
        "OBWG18jOx1R_",
        "AYS2Hgjex1SA",
        "Xeeu17OyzurX"
      ],
      "include_colab_link": true
    },
    "kernelspec": {
      "name": "python3",
      "display_name": "Python 3"
    },
    "language_info": {
      "name": "python"
    }
  },
  "cells": [
    {
      "cell_type": "markdown",
      "metadata": {
        "id": "view-in-github",
        "colab_type": "text"
      },
      "source": [
        "<a href=\"https://colab.research.google.com/github/connixu/120-Data-Science-Interview-Questions/blob/master/name_to_race/Evaluation/cascaded_model/Cascade_Models_11_2021.ipynb\" target=\"_parent\"><img src=\"https://colab.research.google.com/assets/colab-badge.svg\" alt=\"Open In Colab\"/></a>"
      ]
    },
    {
      "cell_type": "markdown",
      "metadata": {
        "id": "k15UGyX_Bj2b"
      },
      "source": [
        "# **Name to Race Cascade Models**\n",
        "--- \n",
        "11/16/2021\n",
        "This notebook includes the new cascade models for Name to Race Inference Work. I have made this a seperate notebook due to the amount of information in the previous jupyter notebook [Name_to_Race_final.ipynb](). Changes will be merged to the previous notebook and pushed to github. \n",
        "\n",
        "Therefore the current notebook covers *model performance on combined train-test data* for *cascade* and *preprocessed cascade* models. \n",
        "2. Best Cascade\n",
        "  - White vs. Nonwhite: Namsor AND NamePrism\n",
        "  - Black vs. Nonblack: Namsor AND Combined_Oversample_LR\n",
        "  - Hispanic vs. Asian: Namsor AND Combined_Oversample_LR\n",
        "4. Names with no overlap as preprocessing + cascade"
      ]
    },
    {
      "cell_type": "markdown",
      "metadata": {
        "id": "8l5K-FMRlGw3"
      },
      "source": [
        "## Notebook Setup"
      ]
    },
    {
      "cell_type": "code",
      "metadata": {
        "id": "lKm2UrDilKo4"
      },
      "source": [
        "import sys\n",
        "import pandas as pd\n",
        "import numpy as np\n",
        "from collections import Counter\n",
        "from sklearn.metrics import classification_report, confusion_matrix, f1_score, accuracy_score, recall_score, \\\n",
        "    precision_score\n",
        "import seaborn as sns\n",
        "import matplotlib.pyplot as plt\n"
      ],
      "execution_count": 1,
      "outputs": []
    },
    {
      "cell_type": "code",
      "metadata": {
        "id": "X5W8LE-f_aMc",
        "colab": {
          "base_uri": "https://localhost:8080/"
        },
        "outputId": "5acccf33-1d9a-446d-9409-d8f85e4f6b8c"
      },
      "source": [
        "from google.colab import drive\n",
        "drive.mount('/content/drive')"
      ],
      "execution_count": 2,
      "outputs": [
        {
          "output_type": "stream",
          "name": "stdout",
          "text": [
            "Mounted at /content/drive\n"
          ]
        }
      ]
    },
    {
      "cell_type": "markdown",
      "metadata": {
        "id": "9m7MJumBPlv0"
      },
      "source": [
        "## Cascade Data Load"
      ]
    },
    {
      "cell_type": "code",
      "metadata": {
        "colab": {
          "base_uri": "https://localhost:8080/",
          "height": 382
        },
        "id": "vyPHhD5vPns9",
        "outputId": "132d66fe-bfc7-4afa-990a-c18327eb207c"
      },
      "source": [
        "cascade_df = pd.read_csv('/content/drive/MyDrive/Corporate_Climate_Name_To_Race/pre_result/cascade_df.csv') \n",
        "\n",
        "print(cascade_df.shape[0])\n",
        "cascade_df.head()"
      ],
      "execution_count": 12,
      "outputs": [
        {
          "output_type": "stream",
          "name": "stderr",
          "text": [
            "/usr/local/lib/python3.7/dist-packages/IPython/core/interactiveshell.py:2718: DtypeWarning: Columns (9,10,11) have mixed types.Specify dtype option on import or set low_memory=False.\n",
            "  interactivity=interactivity, compiler=compiler, result=result)\n"
          ]
        },
        {
          "output_type": "stream",
          "name": "stdout",
          "text": [
            "1321169\n"
          ]
        },
        {
          "output_type": "execute_result",
          "data": {
            "text/html": [
              "<div>\n",
              "<style scoped>\n",
              "    .dataframe tbody tr th:only-of-type {\n",
              "        vertical-align: middle;\n",
              "    }\n",
              "\n",
              "    .dataframe tbody tr th {\n",
              "        vertical-align: top;\n",
              "    }\n",
              "\n",
              "    .dataframe thead th {\n",
              "        text-align: right;\n",
              "    }\n",
              "</style>\n",
              "<table border=\"1\" class=\"dataframe\">\n",
              "  <thead>\n",
              "    <tr style=\"text-align: right;\">\n",
              "      <th></th>\n",
              "      <th>Unnamed: 0</th>\n",
              "      <th>Unnamed: 0.1</th>\n",
              "      <th>name_last</th>\n",
              "      <th>race</th>\n",
              "      <th>origin</th>\n",
              "      <th>name_first</th>\n",
              "      <th>__name</th>\n",
              "      <th>namsor_race</th>\n",
              "      <th>probNamSor</th>\n",
              "      <th>name_full</th>\n",
              "      <th>actual_race</th>\n",
              "      <th>nameprism_race</th>\n",
              "      <th>ethnicolor_race</th>\n",
              "      <th>combined_oversample_race</th>\n",
              "      <th>inmate_race</th>\n",
              "    </tr>\n",
              "  </thead>\n",
              "  <tbody>\n",
              "    <tr>\n",
              "      <th>0</th>\n",
              "      <td>0</td>\n",
              "      <td>31392</td>\n",
              "      <td>loy</td>\n",
              "      <td>white</td>\n",
              "      <td>wikipedia</td>\n",
              "      <td>julien</td>\n",
              "      <td>Loy Julien</td>\n",
              "      <td>asian</td>\n",
              "      <td>0.585072</td>\n",
              "      <td>julien loy</td>\n",
              "      <td>white</td>\n",
              "      <td>white</td>\n",
              "      <td>white</td>\n",
              "      <td>asian</td>\n",
              "      <td>black</td>\n",
              "    </tr>\n",
              "    <tr>\n",
              "      <th>1</th>\n",
              "      <td>1</td>\n",
              "      <td>31393</td>\n",
              "      <td>meÄ?Ã­Å</td>\n",
              "      <td>white</td>\n",
              "      <td>wikipedia</td>\n",
              "      <td>miloslav</td>\n",
              "      <td>Meä?Ã­Å Miloslav</td>\n",
              "      <td>asian</td>\n",
              "      <td>0.494222</td>\n",
              "      <td>miloslav me</td>\n",
              "      <td>white</td>\n",
              "      <td>white</td>\n",
              "      <td>white</td>\n",
              "      <td>white</td>\n",
              "      <td>white</td>\n",
              "    </tr>\n",
              "    <tr>\n",
              "      <th>2</th>\n",
              "      <td>2</td>\n",
              "      <td>31394</td>\n",
              "      <td>ghoraguli</td>\n",
              "      <td>asian</td>\n",
              "      <td>wikipedia</td>\n",
              "      <td>moheener</td>\n",
              "      <td>Ghoraguli Moheener</td>\n",
              "      <td>asian</td>\n",
              "      <td>0.830798</td>\n",
              "      <td>moheener ghoraguli</td>\n",
              "      <td>asian</td>\n",
              "      <td>white</td>\n",
              "      <td>asian</td>\n",
              "      <td>asian</td>\n",
              "      <td>white</td>\n",
              "    </tr>\n",
              "    <tr>\n",
              "      <th>3</th>\n",
              "      <td>3</td>\n",
              "      <td>31395</td>\n",
              "      <td>dubey</td>\n",
              "      <td>asian</td>\n",
              "      <td>wikipedia</td>\n",
              "      <td>vijay</td>\n",
              "      <td>Dubey Vijay</td>\n",
              "      <td>asian</td>\n",
              "      <td>0.975499</td>\n",
              "      <td>vijay dubey</td>\n",
              "      <td>asian</td>\n",
              "      <td>asian</td>\n",
              "      <td>white</td>\n",
              "      <td>asian</td>\n",
              "      <td>white</td>\n",
              "    </tr>\n",
              "    <tr>\n",
              "      <th>4</th>\n",
              "      <td>4</td>\n",
              "      <td>31396</td>\n",
              "      <td>gohil</td>\n",
              "      <td>asian</td>\n",
              "      <td>wikipedia</td>\n",
              "      <td>manav</td>\n",
              "      <td>Gohil Manav</td>\n",
              "      <td>asian</td>\n",
              "      <td>0.975499</td>\n",
              "      <td>manav gohil</td>\n",
              "      <td>asian</td>\n",
              "      <td>asian</td>\n",
              "      <td>asian</td>\n",
              "      <td>asian</td>\n",
              "      <td>white</td>\n",
              "    </tr>\n",
              "  </tbody>\n",
              "</table>\n",
              "</div>"
            ],
            "text/plain": [
              "   Unnamed: 0  Unnamed: 0.1  ... combined_oversample_race inmate_race\n",
              "0           0         31392  ...                    asian       black\n",
              "1           1         31393  ...                    white       white\n",
              "2           2         31394  ...                    asian       white\n",
              "3           3         31395  ...                    asian       white\n",
              "4           4         31396  ...                    asian       white\n",
              "\n",
              "[5 rows x 15 columns]"
            ]
          },
          "metadata": {},
          "execution_count": 12
        }
      ]
    },
    {
      "cell_type": "code",
      "metadata": {
        "colab": {
          "base_uri": "https://localhost:8080/",
          "height": 206
        },
        "id": "0EIXTDhP-lmc",
        "outputId": "153aedd1-a95f-414b-dcfd-b367c62d0939"
      },
      "source": [
        "preprocess_df = pd.read_csv('/content/drive/MyDrive/Corporate_Climate_Name_To_Race/preprocess/preprocess_names_full.csv').rename(columns = {'race':'preprocessed_race'})\n",
        "preprocess_df.head()"
      ],
      "execution_count": 4,
      "outputs": [
        {
          "output_type": "execute_result",
          "data": {
            "text/html": [
              "<div>\n",
              "<style scoped>\n",
              "    .dataframe tbody tr th:only-of-type {\n",
              "        vertical-align: middle;\n",
              "    }\n",
              "\n",
              "    .dataframe tbody tr th {\n",
              "        vertical-align: top;\n",
              "    }\n",
              "\n",
              "    .dataframe thead th {\n",
              "        text-align: right;\n",
              "    }\n",
              "</style>\n",
              "<table border=\"1\" class=\"dataframe\">\n",
              "  <thead>\n",
              "    <tr style=\"text-align: right;\">\n",
              "      <th></th>\n",
              "      <th>Unnamed: 0</th>\n",
              "      <th>name_full_clean</th>\n",
              "      <th>preprocessed_race</th>\n",
              "    </tr>\n",
              "  </thead>\n",
              "  <tbody>\n",
              "    <tr>\n",
              "      <th>0</th>\n",
              "      <td>1</td>\n",
              "      <td>amirthanayagam indran</td>\n",
              "      <td>asian</td>\n",
              "    </tr>\n",
              "    <tr>\n",
              "      <th>1</th>\n",
              "      <td>2</td>\n",
              "      <td>dancing rochanavibhata watchara</td>\n",
              "      <td>asian</td>\n",
              "    </tr>\n",
              "    <tr>\n",
              "      <th>2</th>\n",
              "      <td>3</td>\n",
              "      <td>dinkar ramdhari</td>\n",
              "      <td>asian</td>\n",
              "    </tr>\n",
              "    <tr>\n",
              "      <th>3</th>\n",
              "      <td>4</td>\n",
              "      <td>fleurime michel betty</td>\n",
              "      <td>black</td>\n",
              "    </tr>\n",
              "    <tr>\n",
              "      <th>4</th>\n",
              "      <td>5</td>\n",
              "      <td>franklin chaquisha</td>\n",
              "      <td>black</td>\n",
              "    </tr>\n",
              "  </tbody>\n",
              "</table>\n",
              "</div>"
            ],
            "text/plain": [
              "   Unnamed: 0                   name_full_clean preprocessed_race\n",
              "0           1             amirthanayagam indran             asian\n",
              "1           2   dancing rochanavibhata watchara             asian\n",
              "2           3                   dinkar ramdhari             asian\n",
              "3           4             fleurime michel betty             black\n",
              "4           5                franklin chaquisha             black"
            ]
          },
          "metadata": {},
          "execution_count": 4
        }
      ]
    },
    {
      "cell_type": "markdown",
      "metadata": {
        "id": "i1pq0DAjlWwz"
      },
      "source": [
        "## Functions (Cascade, Scoring and Visualization) "
      ]
    },
    {
      "cell_type": "code",
      "metadata": {
        "id": "Evrzv6Zj7JjG"
      },
      "source": [
        "def scoring(df,actual_race,predicted_race):\n",
        "  print(recall_score(df[actual_race], df[predicted_race], average=None))\n",
        "  print(f1_score(df[actual_race], df[predicted_race], average=None))\n",
        "  print(accuracy_score(df[actual_race], df[predicted_race]))"
      ],
      "execution_count": 13,
      "outputs": []
    },
    {
      "cell_type": "code",
      "metadata": {
        "id": "HHZ06Uoj-dv7"
      },
      "source": [
        "def clean_name_data(df, name_first = 'name_first', name_last = 'name_last', fullname_column = False, name_full = 'name_full'):\n",
        "  \n",
        "  # remove items that are underscores, special characters, and digits. \n",
        "  if fullname_column == False: \n",
        "    df['cleaned_first_name'] = df[name_first].astype(str).str.lower().str.replace('[^\\w\\s]',' ').str.replace('_',\" \").str.replace('[0-9]',' ')\n",
        "    df['cleaned_last_name'] = df[name_last].astype(str).str.lower().str.replace('[^\\w\\s]',' ').str.replace('_',\" \").str.replace('[0-9]',' ')\n",
        "    df['name_full_clean'] = df['cleaned_last_name'] + \" \" + df['cleaned_first_name']\n",
        "\n",
        "  else: \n",
        "    df['name_full_clean'] = df['name_full_clean'].astype(str).str.lower().str.replace('[^\\w\\s]',' ').str.replace('_',\" \").str.replace('[0-9]',' ')\n",
        "\n",
        "  #df['ascii_only'] = np.where(only_english(df['cleaned_name_full'])==False,False,True)\n",
        "\n",
        "  return df "
      ],
      "execution_count": 14,
      "outputs": []
    },
    {
      "cell_type": "markdown",
      "metadata": {
        "id": "If9LILaOOKWH"
      },
      "source": [
        "#### Cascade 1 "
      ]
    },
    {
      "cell_type": "code",
      "metadata": {
        "id": "JxhWhgIvx_xE"
      },
      "source": [
        "def cascaded_predictor_1(df, preprocess = False): \n",
        "  \"\"\"\n",
        "  Function to compile cascade \n",
        "  White/NonWhite (nameprism & namsor) -> \n",
        "  Hispanic/Non-Hispanic (LR-Oversample & namsor) -> \n",
        "  Black/Asian (LR-Oversample & namsor)\n",
        "  \"\"\"\n",
        "  # Step 1: White vs. Other \n",
        "    # note - nameprism precision is a bit lower with white names. \n",
        "  df['white_other_predicted'] = np.where((((df['nameprism_race'] == 'white') &\n",
        "                                             (df['namsor_race'] == 'white'))|\\\n",
        "                                            ((df['nameprism_race'] == 'white') &\n",
        "                                             (df['namsor_race'].isnull() == True))|\\\n",
        "                                            ((df['nameprism_race'].isnull() == True) &\n",
        "                                             (df['namsor_race'] == 'white'))), 'white', 'nonwhite')\n",
        "  # Step 2: Hispanic vs Nonhispanic \n",
        "  df['hispanic_other_predicted'] = np.where((df['white_other_predicted'] == 'white'),'white',\\\n",
        "                                               np.where(((df['combined_oversample_race']=='hispanic') &\\\n",
        "                                                         (df['namsor_race']=='hispanic'))|\\\n",
        "                                                        ((df['combined_oversample_race'] == 'hispanic') &\\\n",
        "                                                         (df['namsor_race'].isnull() == True))|\\\n",
        "                                                        ((df['combined_oversample_race'].isnull() == True) &\\\n",
        "                                                         (df['namsor_race'] == 'hispanic')), 'hispanic', 'nonhispanic_nonwhite'))\n",
        "  # Step 3: Asian vs Black \n",
        "  df['cascade_prediction'] = np.where((df['hispanic_other_predicted']!= 'nonhispanic_nonwhite'),df['hispanic_other_predicted'],\n",
        "                                            np.where(((df['combined_oversample_race']=='black') & (df['namsor_race']=='black'))|\\\n",
        "                                                     ((df['combined_oversample_race'] == 'black') &\\\n",
        "                                                         (df['namsor_race'].isnull() == True))|\\\n",
        "                                                        ((df['combined_oversample_race'].isnull() == True) &\\\n",
        "                                                         (df['namsor_race'] == 'black')), 'black', 'asian')) \n",
        "  \n",
        "  df = df.drop(columns = ['white_other_predicted','hispanic_other_predicted'])  \n",
        "\n",
        "  if preprocess == True: \n",
        "    preprocess_df = pd.read_csv('/content/drive/MyDrive/Corporate_Climate_Name_To_Race/preprocess/preprocess_names_full.csv').rename(columns = {'race':'preprocessed_race'})\n",
        "    df = clean_name_data(df)\n",
        "    df = df.merge(preprocess_df, on = 'name_full_clean', how = 'left')\n",
        "    df['preprocessed_cascade_prediction'] = np.where(df['preprocessed_race'].notnull(),\\\n",
        "                                                             df['preprocessed_race'],df['cascade_prediction'])\n",
        "  \n",
        "  return df "
      ],
      "execution_count": 15,
      "outputs": []
    },
    {
      "cell_type": "markdown",
      "metadata": {
        "id": "2107zlJlbUEk"
      },
      "source": [
        "#### Cascade 1 (or statement at first step) "
      ]
    },
    {
      "cell_type": "code",
      "metadata": {
        "id": "zgoloP6NLdFM"
      },
      "source": [
        "def cascaded_predictor_1_or(df, preprocess = False): \n",
        "  \"\"\"\n",
        "  Function to compile cascade \n",
        "  White/NonWhite (nameprism OR namsor) -> \n",
        "  Hispanic/Non-Hispanic (LR-Oversample & namsor) -> \n",
        "  Black/Asian (LR-Oversample & namsor)\n",
        "  \"\"\"\n",
        "  # Step 1: White vs. Other \n",
        "    # note - nameprism precision is a bit lower with white names. \n",
        "  df['white_other_predicted'] = np.where((((df['nameprism_race'] == 'white') |\n",
        "                                             (df['namsor_race'] == 'white'))|\\\n",
        "                                            ((df['nameprism_race'] == 'white') |\n",
        "                                             (df['namsor_race'].isnull() == True))|\\\n",
        "                                            ((df['nameprism_race'].isnull() == True) |\n",
        "                                             (df['namsor_race'] == 'white'))), 'white', 'nonwhite')\n",
        "  # Step 2: Hispanic vs Nonhispanic \n",
        "  df['hispanic_other_predicted'] = np.where((df['white_other_predicted'] == 'white'),'white',\\\n",
        "                                               np.where(((df['combined_oversample_race']=='hispanic') &\\\n",
        "                                                         (df['namsor_race']=='hispanic'))|\\\n",
        "                                                        ((df['combined_oversample_race'] == 'hispanic') &\\\n",
        "                                                         (df['namsor_race'].isnull() == True))|\\\n",
        "                                                        ((df['combined_oversample_race'].isnull() == True) &\\\n",
        "                                                         (df['namsor_race'] == 'hispanic')), 'hispanic', 'nonhispanic_nonwhite'))\n",
        "  # Step 3: Asian vs Black \n",
        "  df['cascade_prediction'] = np.where((df['hispanic_other_predicted']!= 'nonhispanic_nonwhite'),df['hispanic_other_predicted'],\n",
        "                                            np.where(((df['combined_oversample_race']=='black') & (df['namsor_race']=='black'))|\\\n",
        "                                                     ((df['combined_oversample_race'] == 'black') &\\\n",
        "                                                         (df['namsor_race'].isnull() == True))|\\\n",
        "                                                        ((df['combined_oversample_race'].isnull() == True) &\\\n",
        "                                                         (df['namsor_race'] == 'black')), 'black', 'asian')) \n",
        "  \n",
        "  df = df.drop(columns = ['white_other_predicted','hispanic_other_predicted'])  \n",
        "\n",
        "  if preprocess == True: \n",
        "    preprocess_df = pd.read_csv('/content/drive/MyDrive/Corporate_Climate_Name_To_Race/preprocess/preprocess_names_full.csv').rename(columns = {'race':'preprocessed_race'})\n",
        "    df = clean_name_data(df)\n",
        "    df = df.merge(preprocess_df, on = 'name_full_clean', how = 'left')\n",
        "    df['preprocessed_cascade_prediction'] = np.where(df['preprocessed_race'].notnull(),\\\n",
        "                                                             df['preprocessed_race'],df['cascade_prediction'])\n",
        "  \n",
        "  return df "
      ],
      "execution_count": 16,
      "outputs": []
    },
    {
      "cell_type": "markdown",
      "metadata": {
        "id": "gNw4VcVebh5x"
      },
      "source": [
        "#### Cascade 2 "
      ]
    },
    {
      "cell_type": "code",
      "metadata": {
        "id": "ofp_qk8C5Qkm"
      },
      "source": [
        "def cascaded_predictor_2(df, preprocess = False): \n",
        "  \"\"\"\n",
        "  Function to compile cascade \n",
        "  Asian/NonAsian (combined_oversample_race & namsor) -> \n",
        "  Hispanic/Non-Hispanic (LR-Oversample & namsor) -> \n",
        "  White/Black (nameprism & namsor)\n",
        "  \"\"\"\n",
        "  # Step 1: Asian vs. Other \n",
        "  df['asian_other_predicted'] = np.where((((df['combined_oversample_race'] == 'asian') &\n",
        "                                             (df['namsor_race'] == 'asian'))|\\\n",
        "                                            ((df['combined_oversample_race'] == 'asian') &\n",
        "                                             (df['namsor_race'].isnull() == True))|\\\n",
        "                                            ((df['combined_oversample_race'].isnull() == True) &\n",
        "                                             (df['namsor_race'] == 'asian'))), 'asian', 'nonasian')\n",
        "  \n",
        "  # Step 2: Hispanic vs Nonhispanic \n",
        "  df['hispanic_other_predicted'] = np.where((df['asian_other_predicted'] == 'asian'),'asian',\\\n",
        "                                               np.where(((df['combined_oversample_race']=='hispanic') &\\\n",
        "                                                         (df['namsor_race']=='hispanic'))|\\\n",
        "                                                        ((df['combined_oversample_race'] == 'hispanic') &\\\n",
        "                                                         (df['namsor_race'].isnull() == True))|\\\n",
        "                                                        ((df['combined_oversample_race'].isnull() == True) &\\\n",
        "                                                         (df['namsor_race'] == 'hispanic')), 'hispanic', 'nonhispanic_nonasian'))\n",
        "  \n",
        "  # Step 3: White vs Black - the idea here is to increase the pool for Black names. \n",
        "  df['cascade_prediction'] = np.where((df['hispanic_other_predicted']!= 'nonhispanic_nonasian'),df['hispanic_other_predicted'],\n",
        "                                            np.where(((df['nameprism_race']=='white') & (df['namsor_race']=='white'))|\\\n",
        "                                                     ((df['nameprism_race'] == 'white') &\\\n",
        "                                                         (df['namsor_race'].isnull() == True))|\\\n",
        "                                                        ((df['nameprism_race'].isnull() == True) &\\\n",
        "                                                         (df['namsor_race'] == 'white')), 'white', 'black')) \n",
        "  \n",
        "  df = df.drop(columns = ['asian_other_predicted','hispanic_other_predicted'])  \n",
        "\n",
        "  if preprocess == True: \n",
        "    preprocess_df = pd.read_csv('/content/drive/MyDrive/Corporate_Climate_Name_To_Race/preprocess/preprocess_names_full.csv').rename(columns = {'race':'preprocessed_race'})\n",
        "    df = clean_name_data(df)\n",
        "    df = df.merge(preprocess_df, on = 'name_full_clean', how = 'left')\n",
        "    df['preprocessed_cascade_prediction'] = np.where(df['preprocessed_race'].notnull(),\\\n",
        "                                                             df['preprocessed_race'],df['cascade_prediction'])\n",
        "  return df "
      ],
      "execution_count": 17,
      "outputs": []
    },
    {
      "cell_type": "markdown",
      "metadata": {
        "id": "DoG86hcXbmJl"
      },
      "source": [
        "#### Cascade 3"
      ]
    },
    {
      "cell_type": "code",
      "metadata": {
        "id": "z0UiclKablY_",
        "colab": {
          "base_uri": "https://localhost:8080/"
        },
        "outputId": "11d5e9be-abc5-4192-c179-9c896158a96b"
      },
      "source": [
        "def cascaded_predictor_3(df, preprocess = False): \n",
        "  \"\"\"\n",
        "  Function to compile cascade \n",
        "  Asian/NonAsian (combined_oversample_race & namsor) -> \n",
        "  Hispanic/Non-Hispanic (LR-Oversample & namsor) -> \n",
        "  Black/White (inmate & namsor)\n",
        "  \"\"\"\n",
        "  # Step 1: Asian vs. Other \n",
        "  df['asian_other_predicted'] = np.where((((df['combined_oversample_race'] == 'asian') &\n",
        "                                             (df['namsor_race'] == 'asian'))|\\\n",
        "                                            ((df['combined_oversample_race'] == 'asian') &\n",
        "                                             (df['namsor_race'].isnull() == True))|\\\n",
        "                                            ((df['combined_oversample_race'].isnull() == True) &\n",
        "                                             (df['namsor_race'] == 'asian'))), 'asian', 'nonasian')\n",
        "  \n",
        "  # Step 2: Hispanic vs Nonhispanic \n",
        "  df['hispanic_other_predicted'] = np.where((df['asian_other_predicted'] == 'asian'),'asian',\\\n",
        "                                               np.where(((df['combined_oversample_race']=='hispanic') &\\\n",
        "                                                         (df['namsor_race']=='hispanic'))|\\\n",
        "                                                        ((df['combined_oversample_race'] == 'hispanic') &\\\n",
        "                                                         (df['namsor_race'].isnull() == True))|\\\n",
        "                                                        ((df['combined_oversample_race'].isnull() == True) &\\\n",
        "                                                         (df['namsor_race'] == 'hispanic')), 'hispanic', 'nonhispanic_nonasian'))\n",
        "  \n",
        "  # Step 3: White vs Black - the idea here is to increase the pool for Black names. \n",
        "  df['cascade_prediction'] = np.where((df['hispanic_other_predicted']!= 'nonhispanic_nonasian'),df['hispanic_other_predicted'],\n",
        "                                            np.where(((df['inmate_race']=='black') & (df['namsor_race']=='black'))|\\\n",
        "                                                     ((df['inmate_race'] == 'black') &\\\n",
        "                                                         (df['namsor_race'].isnull() == True))|\\\n",
        "                                                        ((df['inmate_race'].isnull() == True) &\\\n",
        "                                                         (df['namsor_race'] == 'black')), 'black', 'white')) \n",
        "  \n",
        "  df = df.drop(columns = ['asian_other_predicted','hispanic_other_predicted'])  \n",
        "\n",
        "  if preprocess == True: \n",
        "    preprocess_df = pd.read_csv('/content/drive/MyDrive/Corporate_Climate_Name_To_Race/preprocess/preprocess_names_full.csv').rename(columns = {'race':'preprocessed_race'})\n",
        "    df = clean_name_data(df)\n",
        "    df = df.merge(preprocess_df, on = 'name_full_clean', how = 'left')\n",
        "    df['preprocessed_cascade_prediction'] = np.where(df['preprocessed_race'].notnull(),\\\n",
        "                                                             df['preprocessed_race'],df['cascade_prediction'])\n",
        "  return df \n",
        "\n",
        "cascade_3 = cascaded_predictor_3(cascade_df)\n",
        "cascade_3 = cascade_3.rename(columns={'cascade_prediction': 'cascade_prediction_3'})\n",
        "cascade_3_scoring = scoring(cascade_3,'race','cascade_prediction_3')"
      ],
      "execution_count": 20,
      "outputs": [
        {
          "output_type": "stream",
          "name": "stdout",
          "text": [
            "[0.66519791 0.55909589 0.83762984 0.85459417]\n",
            "[0.54787395 0.55815947 0.83121586 0.86223547]\n",
            "0.8054139932135859\n"
          ]
        }
      ]
    },
    {
      "cell_type": "code",
      "metadata": {
        "id": "DRBl0nMP7dJR",
        "colab": {
          "base_uri": "https://localhost:8080/"
        },
        "outputId": "d9c00016-4848-4da2-e62f-82746e8dea26"
      },
      "source": [
        "# Sidd also tried to use different ordering (white -> asian) \n",
        "def cascaded_predictor_3_Sidd(df, preprocess = False): \n",
        "  # Step 1: White vs. Other \n",
        "  # note - nameprism precision is a bit lower with white names. \n",
        "  df['white_other_predicted'] = np.where(df['namsor_race'] == 'white', 'white', 'nonwhite')\n",
        "  \n",
        "  # Step 2: Hispanic vs Nonhispanic \n",
        "  df['hispanic_other_predicted'] = np.where((df['white_other_predicted'] == 'white'),'white',\\\n",
        "                                               np.where(((df['combined_oversample_race']=='hispanic') &\\\n",
        "                                                         (df['namsor_race']=='hispanic'))|\\\n",
        "                                                        ((df['combined_oversample_race'] == 'hispanic') &\\\n",
        "                                                         (df['namsor_race'].isnull() == True))|\\\n",
        "                                                        ((df['combined_oversample_race'].isnull() == True) &\\\n",
        "                                                         (df['namsor_race'] == 'hispanic')), 'hispanic', 'nonhispanic_nonwhite'))\n",
        "  # Step 3: Asian vs Black \n",
        "  df['cascade_prediction'] = np.where((df['hispanic_other_predicted']!= 'nonhispanic_nonwhite'),df['hispanic_other_predicted'],\n",
        "                                            np.where(((df['combined_oversample_race']=='black') & (df['namsor_race']=='black'))|\\\n",
        "                                                     ((df['combined_oversample_race'] == 'black') &\\\n",
        "                                                         (df['namsor_race'].isnull() == True))|\\\n",
        "                                                        ((df['combined_oversample_race'].isnull() == True) &\\\n",
        "                                                         (df['namsor_race'] == 'black')), 'black', 'asian')) \n",
        "  \n",
        "  df = df.drop(columns = ['white_other_predicted','hispanic_other_predicted'])  \n",
        "\n",
        "  if preprocess == True: \n",
        "    preprocess_df = pd.read_csv('/content/drive/MyDrive/Corporate_Climate_Name_To_Race/preprocess/preprocess_names_full.csv').rename(columns = {'race':'preprocessed_race'})\n",
        "    df = clean_name_data(df)\n",
        "    df = df.merge(preprocess_df, on = 'name_full_clean', how = 'left')\n",
        "    df['preprocessed_cascade_prediction'] = np.where(df['preprocessed_race'].notnull(),\\\n",
        "                                                             df['preprocessed_race'],df['cascade_prediction'])\n",
        "  \n",
        "  return df \n",
        "\n",
        "cascade_3 = cascaded_predictor_3(cascade_df)\n",
        "cascade_3 = cascade_3.rename(columns={'cascade_prediction': 'cascade_prediction_3'})\n",
        "cascade_3_scoring = scoring(cascade_3,'race','cascade_prediction_3')\n",
        "\n",
        "cascade_3_SS = cascaded_predictor_3_SS(cascade_df)\n",
        "cascade_3_SS_scoring = scoring(cascade_3_SS, 'race', 'cascade_prediction')"
      ],
      "execution_count": 21,
      "outputs": [
        {
          "output_type": "stream",
          "name": "stdout",
          "text": [
            "[0.66519791 0.55909589 0.83762984 0.85459417]\n",
            "[0.54787395 0.55815947 0.83121586 0.86223547]\n",
            "0.8054139932135859\n",
            "[0.77190277 0.69008765 0.83762984 0.7460814 ]\n",
            "[0.24846203 0.59829657 0.83121586 0.82867113]\n",
            "0.753757467818273\n"
          ]
        }
      ]
    },
    {
      "cell_type": "markdown",
      "metadata": {
        "id": "TvHIzbghfOwx"
      },
      "source": [
        "#### Cascade 4"
      ]
    },
    {
      "cell_type": "code",
      "metadata": {
        "id": "x8B04279jrAc",
        "colab": {
          "base_uri": "https://localhost:8080/"
        },
        "outputId": "bc824175-e050-41ca-c797-1e3cc1eb0e6d"
      },
      "source": [
        "def cascaded_predictor_4(df, preprocess = False): \n",
        "  \"\"\"\n",
        "  Function to compile cascade - selecting by precision for first group \n",
        "  Asian/NonAsian (ethnicolor & nameprism) -> \n",
        "  Hispanic/Non-Hispanic (LR-Oversample & namsor) -> \n",
        "  Black/White (inmate & namsor)\n",
        "  \"\"\"\n",
        "  # Step 1: Asian vs. Other \n",
        "  # selected predictors this time in first round with higher precisions for the first group \n",
        "  df['asian_other_predicted'] = np.where((((df['ethnicolor_race'] == 'asian') &\n",
        "                                             (df['nameprism_race'] == 'asian'))|\\\n",
        "                                            ((df['ethnicolor_race'] == 'asian') &\n",
        "                                             (df['nameprism_race'].isnull() == True))|\\\n",
        "                                            ((df['ethnicolor_race'].isnull() == True) &\n",
        "                                             (df['nameprism_race'] == 'asian'))), 'asian', 'nonasian')\n",
        "  \n",
        "  # Step 2: Hispanic vs Nonhispanic \n",
        "  df['hispanic_other_predicted'] = np.where((df['asian_other_predicted'] == 'asian'),'asian',\\\n",
        "                                               np.where(((df['combined_oversample_race']=='hispanic') &\\\n",
        "                                                         (df['namsor_race']=='hispanic'))|\\\n",
        "                                                        ((df['combined_oversample_race'] == 'hispanic') &\\\n",
        "                                                         (df['namsor_race'].isnull() == True))|\\\n",
        "                                                        ((df['combined_oversample_race'].isnull() == True) &\\\n",
        "                                                         (df['namsor_race'] == 'hispanic')), 'hispanic', 'nonhispanic_nonasian'))\n",
        "  \n",
        "  # Step 3: White vs Black - the idea here is to increase the pool for Black names. \n",
        "  df['cascade_prediction'] = np.where((df['hispanic_other_predicted']!= 'nonhispanic_nonasian'),df['hispanic_other_predicted'],\n",
        "                                            np.where(((df['inmate_race']=='black') & (df['namsor_race']=='black'))|\\\n",
        "                                                     ((df['inmate_race'] == 'black') &\\\n",
        "                                                         (df['namsor_race'].isnull() == True))|\\\n",
        "                                                        ((df['inmate_race'].isnull() == True) &\\\n",
        "                                                         (df['namsor_race'] == 'black')), 'black', 'white')) \n",
        "  \n",
        "  df = df.drop(columns = ['asian_other_predicted','hispanic_other_predicted'])  \n",
        "\n",
        "  if preprocess == True: \n",
        "    preprocess_df = pd.read_csv('/content/drive/MyDrive/Corporate_Climate_Name_To_Race/preprocess/preprocess_names_full.csv').rename(columns = {'race':'preprocessed_race'})\n",
        "    df = clean_name_data(df)\n",
        "    df = df.merge(preprocess_df, on = 'name_full_clean', how = 'left')\n",
        "    df['preprocessed_cascade_prediction'] = np.where(df['preprocessed_race'].notnull(),\\\n",
        "                                                             df['preprocessed_race'],df['cascade_prediction'])\n",
        "  \n",
        "  return df \n",
        "\n",
        "cascade_4 = cascaded_predictor_4(cascade_df)\n",
        "cascade_4 = cascade_4.rename(columns={'cascade_prediction': 'cascade_prediction_4'})\n",
        "cascade_4_scoring = scoring(cascade_4,'race','cascade_prediction_4')"
      ],
      "execution_count": 24,
      "outputs": [
        {
          "output_type": "stream",
          "name": "stdout",
          "text": [
            "[0.17555262 0.55902741 0.83760247 0.87083928]\n",
            "[0.28927545 0.55811752 0.83120564 0.86235105]\n",
            "0.806186793665307\n"
          ]
        }
      ]
    },
    {
      "cell_type": "markdown",
      "metadata": {
        "id": "ftGgn1Pcfq1o"
      },
      "source": [
        "#### Cascade 4 (or statement at first step) "
      ]
    },
    {
      "cell_type": "code",
      "metadata": {
        "id": "HRfTYwU2fq1o"
      },
      "source": [
        "def cascaded_predictor_4_or(df, preprocess = False): \n",
        "  \"\"\"\n",
        "  Function to compile cascade - selecting by precision for first group \n",
        "  Asian/NonAsian (ethnicolor OR nameprism) -> \n",
        "  Hispanic/Non-Hispanic (LR-Oversample & namsor) -> \n",
        "  Black/White (inmate & namsor)\n",
        "  \"\"\"\n",
        "  # Step 1: Asian vs. Other \n",
        "  # selected predictors this time in first round with higher precisions for the first group \n",
        "  df['asian_other_predicted'] = np.where((((df['ethnicolor_race'] == 'asian') |\n",
        "                                             (df['nameprism_race'] == 'asian'))|\\\n",
        "                                            ((df['ethnicolor_race'] == 'asian') |\n",
        "                                             (df['nameprism_race'].isnull() == True))|\\\n",
        "                                            ((df['ethnicolor_race'].isnull() == True) |\n",
        "                                             (df['nameprism_race'] == 'asian'))), 'asian', 'nonasian')\n",
        "  \n",
        "  # Step 2: Hispanic vs Nonhispanic \n",
        "  df['hispanic_other_predicted'] = np.where((df['asian_other_predicted'] == 'asian'),'asian',\\\n",
        "                                               np.where(((df['combined_oversample_race']=='hispanic') &\\\n",
        "                                                         (df['namsor_race']=='hispanic'))|\\\n",
        "                                                        ((df['combined_oversample_race'] == 'hispanic') &\\\n",
        "                                                         (df['namsor_race'].isnull() == True))|\\\n",
        "                                                        ((df['combined_oversample_race'].isnull() == True) &\\\n",
        "                                                         (df['namsor_race'] == 'hispanic')), 'hispanic', 'nonhispanic_nonasian'))\n",
        "  \n",
        "  # Step 3: White vs Black - the idea here is to increase the pool for Black names. \n",
        "  df['cascade_prediction'] = np.where((df['hispanic_other_predicted']!= 'nonhispanic_nonasian'),df['hispanic_other_predicted'],\n",
        "                                            np.where(((df['inmate_race']=='black') & (df['namsor_race']=='black'))|\\\n",
        "                                                     ((df['inmate_race'] == 'black') &\\\n",
        "                                                         (df['namsor_race'].isnull() == True))|\\\n",
        "                                                        ((df['inmate_race'].isnull() == True) &\\\n",
        "                                                         (df['namsor_race'] == 'black')), 'black', 'white')) \n",
        "  \n",
        "  df = df.drop(columns = ['asian_other_predicted','hispanic_other_predicted'])  \n",
        "\n",
        "  if preprocess == True: \n",
        "    preprocess_df = pd.read_csv('/content/drive/MyDrive/Corporate_Climate_Name_To_Race/preprocess/preprocess_names_full.csv').rename(columns = {'race':'preprocessed_race'})\n",
        "    df = clean_name_data(df)\n",
        "    df = df.merge(preprocess_df, on = 'name_full_clean', how = 'left')\n",
        "    df['preprocessed_cascade_prediction'] = np.where(df['preprocessed_race'].notnull(),\\\n",
        "                                                             df['preprocessed_race'],df['cascade_prediction'])\n",
        "  \n",
        "  return df "
      ],
      "execution_count": 25,
      "outputs": []
    },
    {
      "cell_type": "markdown",
      "metadata": {
        "id": "m797g9URg3Yw"
      },
      "source": [
        "#### Cascade 5"
      ]
    },
    {
      "cell_type": "code",
      "metadata": {
        "id": "j9QuiiS25bK-",
        "colab": {
          "base_uri": "https://localhost:8080/"
        },
        "outputId": "ebe6cb65-8b6f-44f8-9cd6-63e042dbcaec"
      },
      "source": [
        "def cascaded_predictor_5(df, preprocess = False): \n",
        "  \"\"\"\n",
        "  Function to compile cascade \n",
        "  Black/NonBlack (ethnicolor & nameprism) -> \n",
        "  Hispanic/Non-Hispanic (nameprism & namsor) -> \n",
        "  Asian/White (LR-Oversample & namsor)\n",
        "  \"\"\"\n",
        "  # Step 1: Black vs. Other \n",
        "  # selected predictors this time in first round with higher precisions for the first group \n",
        "  df['black_other_predicted'] = np.where((((df['ethnicolor_race'] == 'black') &\n",
        "                                             (df['nameprism_race'] == 'black'))|\\\n",
        "                                            ((df['ethnicolor_race'] == 'black') &\n",
        "                                             (df['nameprism_race'].isnull() == True))|\\\n",
        "                                            ((df['ethnicolor_race'].isnull() == True) &\n",
        "                                             (df['nameprism_race'] == 'black'))), 'black', 'nonblack')\n",
        "  \n",
        "  # Step 2: Hispanic vs Nonhispanic \n",
        "  df['hispanic_other_predicted'] = np.where((df['black_other_predicted'] == 'black'),'black',\\\n",
        "                                               np.where(((df['nameprism_race']=='hispanic') &\\\n",
        "                                                         (df['namsor_race']=='hispanic'))|\\\n",
        "                                                        ((df['nameprism_race'] == 'hispanic') &\\\n",
        "                                                         (df['namsor_race'].isnull() == True))|\\\n",
        "                                                        ((df['nameprism_race'].isnull() == True) &\\\n",
        "                                                         (df['namsor_race'] == 'hispanic')), 'hispanic', 'nonhispanic_nonblack'))\n",
        "  \n",
        "  # Step 3: Asian vs White \n",
        "  df['cascade_prediction'] = np.where((df['hispanic_other_predicted']!= 'nonhispanic_nonblack'),df['hispanic_other_predicted'],\n",
        "                                            np.where(((df['combined_oversample_race']=='asian') & (df['namsor_race']=='asian'))|\\\n",
        "                                                     ((df['combined_oversample_race'] == 'asian') &\\\n",
        "                                                         (df['namsor_race'].isnull() == True))|\\\n",
        "                                                        ((df['combined_oversample_race'].isnull() == True) &\\\n",
        "                                                         (df['namsor_race'] == 'asian')), 'asian', 'white')) \n",
        "  \n",
        "  df = df.drop(columns = ['black_other_predicted','hispanic_other_predicted'])  \n",
        "\n",
        "  if preprocess == True: \n",
        "    preprocess_df = pd.read_csv('/content/drive/MyDrive/Corporate_Climate_Name_To_Race/preprocess/preprocess_names_full.csv').rename(columns = {'race':'preprocessed_race'})\n",
        "    df = clean_name_data(df)\n",
        "    df = df.merge(preprocess_df, on = 'name_full_clean', how = 'left')\n",
        "    df['preprocessed_cascade_prediction'] = np.where(df['preprocessed_race'].notnull(),\\\n",
        "                                                             df['preprocessed_race'],df['cascade_prediction'])\n",
        "    \n",
        "  return df \n",
        "\n",
        "cascade_5 = cascaded_predictor_5(cascade_df)\n",
        "cascade_5 = cascade_5.rename(columns={'cascade_prediction': 'cascade_prediction_5'})\n",
        "cascade_5_scoring = scoring(cascade_5,'race','cascade_prediction_5')"
      ],
      "execution_count": 26,
      "outputs": [
        {
          "output_type": "stream",
          "name": "stdout",
          "text": [
            "[0.66270104 0.07478245 0.36950581 0.96218931]\n",
            "[0.54793023 0.13714258 0.5081525  0.8304052 ]\n",
            "0.7301624546140577\n"
          ]
        }
      ]
    },
    {
      "cell_type": "markdown",
      "metadata": {
        "id": "ENHOxZMuhL63"
      },
      "source": [
        "#### Cascade 5 (or statement at first step) "
      ]
    },
    {
      "cell_type": "code",
      "metadata": {
        "id": "vOC1kEZSLVH1"
      },
      "source": [
        "def cascaded_predictor_5_or(df, preprocess = False): \n",
        "  \"\"\"\n",
        "  Function to compile cascade \n",
        "  Black/NonBlack (ethnicolor OR nameprism) -> \n",
        "  Hispanic/Non-Hispanic (nameprism & namsor) -> \n",
        "  Asian/White (LR-Oversample & namsor)\n",
        "  \"\"\"\n",
        "  # Step 1: Black vs. Other \n",
        "  # selected predictors this time in first round with higher precisions for the first group \n",
        "  df['black_other_predicted'] = np.where((((df['ethnicolor_race'] == 'black') |\n",
        "                                             (df['nameprism_race'] == 'black'))|\\\n",
        "                                            ((df['ethnicolor_race'] == 'black') |\n",
        "                                             (df['nameprism_race'].isnull() == True))|\\\n",
        "                                            ((df['ethnicolor_race'].isnull() == True) |\n",
        "                                             (df['nameprism_race'] == 'black'))), 'black', 'nonblack')\n",
        "  \n",
        "  # Step 2: Hispanic vs Nonhispanic \n",
        "  df['hispanic_other_predicted'] = np.where((df['black_other_predicted'] == 'black'),'black',\\\n",
        "                                               np.where(((df['nameprism_race']=='hispanic') &\\\n",
        "                                                         (df['namsor_race']=='hispanic'))|\\\n",
        "                                                        ((df['nameprism_race'] == 'hispanic') &\\\n",
        "                                                         (df['namsor_race'].isnull() == True))|\\\n",
        "                                                        ((df['nameprism_race'].isnull() == True) &\\\n",
        "                                                         (df['namsor_race'] == 'hispanic')), 'hispanic', 'nonhispanic_nonblack'))\n",
        "  \n",
        "  # Step 3: Asian vs White \n",
        "  df['cascade_prediction'] = np.where((df['hispanic_other_predicted']!= 'nonhispanic_nonblack'),df['hispanic_other_predicted'],\n",
        "                                            np.where(((df['combined_oversample_race']=='asian') & (df['namsor_race']=='asian'))|\\\n",
        "                                                     ((df['combined_oversample_race'] == 'asian') &\\\n",
        "                                                         (df['namsor_race'].isnull() == True))|\\\n",
        "                                                        ((df['combined_oversample_race'].isnull() == True) &\\\n",
        "                                                         (df['namsor_race'] == 'asian')), 'asian', 'white')) \n",
        "  \n",
        "  \n",
        "  df = df.drop(columns = ['black_other_predicted','hispanic_other_predicted'])  \n",
        "\n",
        "  if preprocess == True: \n",
        "    preprocess_df = pd.read_csv('/content/drive/MyDrive/Corporate_Climate_Name_To_Race/preprocess/preprocess_names_full.csv').rename(columns = {'race':'preprocessed_race'})\n",
        "    df = clean_name_data(df)\n",
        "    df = df.merge(preprocess_df, on = 'name_full_clean', how = 'left')\n",
        "    df['preprocessed_cascade_prediction'] = np.where(df['preprocessed_race'].notnull(),\\\n",
        "                                                             df['preprocessed_race'],df['cascade_prediction'])\n",
        "    \n",
        "  return df "
      ],
      "execution_count": 27,
      "outputs": []
    },
    {
      "cell_type": "markdown",
      "metadata": {
        "id": "jukkO0gqzhQB"
      },
      "source": [
        "#### Cascade 6"
      ]
    },
    {
      "cell_type": "code",
      "metadata": {
        "id": "VkcSoYAdzhQB",
        "colab": {
          "base_uri": "https://localhost:8080/"
        },
        "outputId": "b804d8a6-ee23-4fe1-a550-b48e31b70e8f"
      },
      "source": [
        "def cascaded_predictor_6(df, preprocess = False): \n",
        "  \"\"\"\n",
        "  Function to compile cascade \n",
        "  Black/NonBlack (namsor & inmate) -> \n",
        "  Hispanic/Non-Hispanic (nameprism & namsor) -> \n",
        "  Asian/White (LR-Oversample & namsor)\n",
        "  \"\"\"\n",
        "  # Step 1: Black vs. Other \n",
        "  # selected predictors this time in first round with higher precisions for the first group \n",
        "  df['black_other_predicted'] = np.where((((df['namsor_race'] == 'black') &\n",
        "                                             (df['inmate_race'] == 'black'))|\\\n",
        "                                            ((df['namsor_race'] == 'black') &\n",
        "                                             (df['inmate_race'].isnull() == True))|\\\n",
        "                                            ((df['namsor_race'].isnull() == True) &\n",
        "                                             (df['inmate_race'] == 'black'))), 'black', 'nonblack')\n",
        "  \n",
        "  # Step 2: Hispanic vs Nonhispanic \n",
        "  df['hispanic_other_predicted'] = np.where((df['black_other_predicted'] == 'black'),'black',\\\n",
        "                                               np.where(((df['nameprism_race']=='hispanic') &\\\n",
        "                                                         (df['namsor_race']=='hispanic'))|\\\n",
        "                                                        ((df['nameprism_race'] == 'hispanic') &\\\n",
        "                                                         (df['namsor_race'].isnull() == True))|\\\n",
        "                                                        ((df['nameprism_race'].isnull() == True) &\\\n",
        "                                                         (df['namsor_race'] == 'hispanic')), 'hispanic', 'nonhispanic_nonblack'))\n",
        "  \n",
        "  # Step 3: Asian vs White \n",
        "  df['cascade_prediction'] = np.where((df['hispanic_other_predicted']!= 'nonhispanic_nonblack'),df['hispanic_other_predicted'],\n",
        "                                            np.where(((df['combined_oversample_race']=='asian') & (df['namsor_race']=='asian'))|\\\n",
        "                                                     ((df['combined_oversample_race'] == 'asian') &\\\n",
        "                                                         (df['namsor_race'].isnull() == True))|\\\n",
        "                                                        ((df['combined_oversample_race'].isnull() == True) &\\\n",
        "                                                         (df['namsor_race'] == 'asian')), 'asian', 'white')) \n",
        "  \n",
        "  df = df.drop(columns = ['black_other_predicted','hispanic_other_predicted'])  \n",
        "\n",
        "  if preprocess == True: \n",
        "    preprocess_df = pd.read_csv('/content/drive/MyDrive/Corporate_Climate_Name_To_Race/preprocess/preprocess_names_full.csv').rename(columns = {'race':'preprocessed_race'})\n",
        "    df = clean_name_data(df)\n",
        "    df = df.merge(preprocess_df, on = 'name_full_clean', how = 'left')\n",
        "    df['preprocessed_cascade_prediction'] = np.where(df['preprocessed_race'].notnull(),\\\n",
        "                                                             df['preprocessed_race'],df['cascade_prediction'])\n",
        "    \n",
        "  return df \n",
        "\n",
        "cascade_6 = cascaded_predictor_6(cascade_df)\n",
        "cascade_6 = cascade_6.rename(columns={'cascade_prediction': 'cascade_prediction_6'})\n",
        "cascade_6_scoring = scoring(cascade_6,'race','cascade_prediction_6')"
      ],
      "execution_count": 29,
      "outputs": [
        {
          "output_type": "stream",
          "name": "stdout",
          "text": [
            "[0.66519791 0.55909589 0.36974303 0.87507148]\n",
            "[0.54787395 0.55815947 0.50821569 0.8251133 ]\n",
            "0.7414971135411139\n"
          ]
        }
      ]
    },
    {
      "cell_type": "code",
      "metadata": {
        "id": "tgtV_z8e0i_n"
      },
      "source": [
        "def distribution_plot(df, prediction): \n",
        "\n",
        "  df['frequency'] = 0 # a dummy column to refer to\n",
        "  total = len(df)\n",
        "  counts = df.groupby([prediction]).count()\n",
        "  freq_per_total = counts.div(total).reset_index()\n",
        "  ax = sns.barplot(x=prediction, y='frequency', data=freq_per_total)\n",
        "  \n",
        "  return ax "
      ],
      "execution_count": 30,
      "outputs": []
    },
    {
      "cell_type": "code",
      "metadata": {
        "colab": {
          "base_uri": "https://localhost:8080/"
        },
        "id": "ewclHuR_xrEb",
        "outputId": "084e69d9-0db9-4bf0-d922-b4edbd708efa"
      },
      "source": [
        "# Sidd checked for the similar scores for 'asian' and 'black' predictors \n",
        "\n",
        "cascade_3_and_6_merge = cascade_3.merge(cascade_6, on = 'Unnamed: 0', how = 'inner')\n",
        "print(cascade_3_and_6_merge.shape)\n",
        "#print(list(cascade_3_and_6_merge_3_asian.columns))\n",
        "cascade_3_and_6_merge_3_asian = cascade_3_and_6_merge[cascade_3_and_6_merge['cascade_prediction_3'] == 'asian']\n",
        "print(cascade_df.shape)\n",
        "print(cascade_3_and_6_merge_3_asian['inmate_race_y'].unique())\n",
        "print(list(cascade_3_and_6_merge.columns))\n",
        "#cascade_3_asian = cascade_3[cascade_3['cascade_prediction'] == 'asian']\n",
        "#print(cascade_3_asian[cascade_3_asian['inmate_race'] == 'black'].shape)\n",
        "#print(cascade_3_asian.shape)\n",
        "#cascade_6_asian = cascade_6[cascade_6['cascade_prediction'] == 'asian']\n",
        "#print(cascade_6_asian.shape)\n"
      ],
      "execution_count": 33,
      "outputs": [
        {
          "output_type": "stream",
          "name": "stdout",
          "text": [
            "(1321169, 33)\n",
            "(1321169, 20)\n",
            "['black' 'white' 'hispanic']\n",
            "['Unnamed: 0', 'Unnamed: 0.1_x', 'name_last_x', 'race_x', 'origin_x', 'name_first_x', '__name_x', 'namsor_race_x', 'probNamSor_x', 'name_full_x', 'actual_race_x', 'nameprism_race_x', 'ethnicolor_race_x', 'combined_oversample_race_x', 'inmate_race_x', 'cascade_prediction_3', 'Unnamed: 0.1_y', 'name_last_y', 'race_y', 'origin_y', 'name_first_y', '__name_y', 'namsor_race_y', 'probNamSor_y', 'name_full_y', 'actual_race_y', 'nameprism_race_y', 'ethnicolor_race_y', 'combined_oversample_race_y', 'inmate_race_y', 'asian_other_predicted', 'cascade_prediction_6', 'white_other_predicted']\n"
          ]
        }
      ]
    },
    {
      "cell_type": "markdown",
      "metadata": {
        "id": "YGPHUwe5kuEF"
      },
      "source": [
        "# Results"
      ]
    },
    {
      "cell_type": "markdown",
      "metadata": {
        "id": "duht7zIOYHcF"
      },
      "source": [
        "### For Reference: Actual Race"
      ]
    },
    {
      "cell_type": "code",
      "metadata": {
        "colab": {
          "base_uri": "https://localhost:8080/",
          "height": 314
        },
        "id": "An6wt5I3YEK3",
        "outputId": "801cbeb0-d0df-467c-e192-6b4ffca328d2"
      },
      "source": [
        "print('Actual Race')\n",
        "sns.set_palette('Blues')\n",
        "cascade_df.actual_race = cascade_df.actual_race.str.replace('white.1','white')\n",
        "distribution_plot(cascade_df,'actual_race')"
      ],
      "execution_count": null,
      "outputs": [
        {
          "output_type": "stream",
          "name": "stdout",
          "text": [
            "Actual Race\n"
          ]
        },
        {
          "output_type": "execute_result",
          "data": {
            "text/plain": [
              "<matplotlib.axes._subplots.AxesSubplot at 0x7f4f9b9bff50>"
            ]
          },
          "metadata": {},
          "execution_count": 27
        },
        {
          "output_type": "display_data",
          "data": {
            "image/png": "[encoded data removed]",
            "text/plain": [
              "<Figure size 432x288 with 1 Axes>"
            ]
          },
          "metadata": {
            "needs_background": "light"
          }
        }
      ]
    },
    {
      "cell_type": "markdown",
      "metadata": {
        "id": "-8n767loMjLG"
      },
      "source": [
        "## Cascade Model 1 "
      ]
    },
    {
      "cell_type": "markdown",
      "metadata": {
        "id": "3iGd4rPBmey9"
      },
      "source": [
        "This was one of our original top-performing cascade models. As shown below, it goes from White to Asian with three sub-predictors at each cascade binary classification, using only nameprism, LR, and Namsor. "
      ]
    },
    {
      "cell_type": "code",
      "metadata": {
        "colab": {
          "base_uri": "https://localhost:8080/"
        },
        "id": "VCKH9AdiIZ2D",
        "outputId": "853ed1fc-4537-4faf-dfcf-5c891246bbfd"
      },
      "source": [
        "cascade_1 = cascaded_predictor_1(cascade_df)\n",
        "help(cascaded_predictor_1)"
      ],
      "execution_count": null,
      "outputs": [
        {
          "output_type": "stream",
          "name": "stdout",
          "text": [
            "Help on function cascaded_predictor_1 in module __main__:\n",
            "\n",
            "cascaded_predictor_1(df, preprocess=False)\n",
            "    Function to compile cascade \n",
            "    White/NonWhite (nameprism & namsor) -> \n",
            "    Hispanic/Non-Hispanic (LR-Oversample & namsor) -> \n",
            "    Black/Asian (LR-Oversample & namsor)\n",
            "\n"
          ]
        }
      ]
    },
    {
      "cell_type": "code",
      "metadata": {
        "colab": {
          "base_uri": "https://localhost:8080/",
          "height": 314
        },
        "id": "_6QgC29GKd48",
        "outputId": "41c5848e-7c65-4af9-9acf-8e86f57ee328"
      },
      "source": [
        "print('Cascade 1')\n",
        "sns.set_palette('viridis_r')\n",
        "\n",
        "distribution_plot(cascade_1,'cascade_prediction')"
      ],
      "execution_count": null,
      "outputs": [
        {
          "output_type": "stream",
          "name": "stdout",
          "text": [
            "Cascade 1\n"
          ]
        },
        {
          "output_type": "execute_result",
          "data": {
            "text/plain": [
              "<matplotlib.axes._subplots.AxesSubplot at 0x7f4f9ba22490>"
            ]
          },
          "metadata": {},
          "execution_count": 29
        },
        {
          "output_type": "display_data",
          "data": {
            "image/png": "[encoded data removed]",
            "text/plain": [
              "<Figure size 432x288 with 1 Axes>"
            ]
          },
          "metadata": {
            "needs_background": "light"
          }
        }
      ]
    },
    {
      "cell_type": "code",
      "metadata": {
        "colab": {
          "base_uri": "https://localhost:8080/"
        },
        "id": "ousvZ7pSO7JN",
        "outputId": "fbd283ff-edd8-4d4d-e17e-3a3697278dcb"
      },
      "source": [
        "scoring(cascade_1,'race','cascade_prediction')"
      ],
      "execution_count": null,
      "outputs": [
        {
          "output_type": "stream",
          "name": "stdout",
          "text": [
            "[0.78559888 0.69008765 0.83762984 0.65398324]\n",
            "[0.1667524  0.59829657 0.83121586 0.76852885]\n",
            "0.6923550280092857\n"
          ]
        }
      ]
    },
    {
      "cell_type": "markdown",
      "metadata": {
        "id": "w3Yq7JyOmzgY"
      },
      "source": [
        "As we can see, this model seems to have a higher relative distribution for asian relative to white; other than this Black and Hispanic names seem to have decent recall, Black names and Asian names have relatively lower precision, and the accuracy on average is 0.7 which is good but not great. "
      ]
    },
    {
      "cell_type": "markdown",
      "metadata": {
        "id": "j36bbnzGl8Sk"
      },
      "source": [
        "### Preprocessed Cascade 1 "
      ]
    },
    {
      "cell_type": "code",
      "metadata": {
        "colab": {
          "base_uri": "https://localhost:8080/",
          "height": 443
        },
        "id": "TMh2SJcbl_if",
        "outputId": "8776f5ad-1300-40ae-c7ff-2057f53d73f9"
      },
      "source": [
        "preprocessed_cascade_1 = cascaded_predictor_1(cascade_df, preprocess=True)\n",
        "sns.set_palette('viridis')\n",
        "print('Preprocessed Cascade 1')\n",
        "distribution_plot(preprocessed_cascade_1,'preprocessed_cascade_prediction')"
      ],
      "execution_count": null,
      "outputs": [
        {
          "output_type": "error",
          "ename": "FileNotFoundError",
          "evalue": "ignored",
          "traceback": [
            "\u001b[0;31m---------------------------------------------------------------------------\u001b[0m",
            "\u001b[0;31mFileNotFoundError\u001b[0m                         Traceback (most recent call last)",
            "\u001b[0;32m<ipython-input-31-3f9090df18f6>\u001b[0m in \u001b[0;36m<module>\u001b[0;34m()\u001b[0m\n\u001b[0;32m----> 1\u001b[0;31m \u001b[0mpreprocessed_cascade_1\u001b[0m \u001b[0;34m=\u001b[0m \u001b[0mcascaded_predictor_1\u001b[0m\u001b[0;34m(\u001b[0m\u001b[0mcascade_df\u001b[0m\u001b[0;34m,\u001b[0m \u001b[0mpreprocess\u001b[0m\u001b[0;34m=\u001b[0m\u001b[0;32mTrue\u001b[0m\u001b[0;34m)\u001b[0m\u001b[0;34m\u001b[0m\u001b[0;34m\u001b[0m\u001b[0m\n\u001b[0m\u001b[1;32m      2\u001b[0m \u001b[0msns\u001b[0m\u001b[0;34m.\u001b[0m\u001b[0mset_palette\u001b[0m\u001b[0;34m(\u001b[0m\u001b[0;34m'viridis'\u001b[0m\u001b[0;34m)\u001b[0m\u001b[0;34m\u001b[0m\u001b[0;34m\u001b[0m\u001b[0m\n\u001b[1;32m      3\u001b[0m \u001b[0mprint\u001b[0m\u001b[0;34m(\u001b[0m\u001b[0;34m'Preprocessed Cascade 1'\u001b[0m\u001b[0;34m)\u001b[0m\u001b[0;34m\u001b[0m\u001b[0;34m\u001b[0m\u001b[0m\n\u001b[1;32m      4\u001b[0m \u001b[0mdistribution_plot\u001b[0m\u001b[0;34m(\u001b[0m\u001b[0mpreprocessed_cascade_1\u001b[0m\u001b[0;34m,\u001b[0m\u001b[0;34m'preprocessed_cascade_prediction'\u001b[0m\u001b[0;34m)\u001b[0m\u001b[0;34m\u001b[0m\u001b[0;34m\u001b[0m\u001b[0m\n",
            "\u001b[0;32m<ipython-input-15-595b9a363e67>\u001b[0m in \u001b[0;36mcascaded_predictor_1\u001b[0;34m(df, preprocess)\u001b[0m\n\u001b[1;32m     27\u001b[0m \u001b[0;34m\u001b[0m\u001b[0m\n\u001b[1;32m     28\u001b[0m   \u001b[0;32mif\u001b[0m \u001b[0mpreprocess\u001b[0m \u001b[0;34m==\u001b[0m \u001b[0;32mTrue\u001b[0m\u001b[0;34m:\u001b[0m\u001b[0;34m\u001b[0m\u001b[0;34m\u001b[0m\u001b[0m\n\u001b[0;32m---> 29\u001b[0;31m     \u001b[0mpreprocess_df\u001b[0m \u001b[0;34m=\u001b[0m \u001b[0mpd\u001b[0m\u001b[0;34m.\u001b[0m\u001b[0mread_csv\u001b[0m\u001b[0;34m(\u001b[0m\u001b[0;34m'/content/drive/MyDrive/Corporate_Climate_Name_To_Race/preprocess/preprocess_names_full.csv'\u001b[0m\u001b[0;34m)\u001b[0m\u001b[0;34m.\u001b[0m\u001b[0mrename\u001b[0m\u001b[0;34m(\u001b[0m\u001b[0mcolumns\u001b[0m \u001b[0;34m=\u001b[0m \u001b[0;34m{\u001b[0m\u001b[0;34m'race'\u001b[0m\u001b[0;34m:\u001b[0m\u001b[0;34m'preprocessed_race'\u001b[0m\u001b[0;34m}\u001b[0m\u001b[0;34m)\u001b[0m\u001b[0;34m\u001b[0m\u001b[0;34m\u001b[0m\u001b[0m\n\u001b[0m\u001b[1;32m     30\u001b[0m     \u001b[0mdf\u001b[0m \u001b[0;34m=\u001b[0m \u001b[0mclean_name_data\u001b[0m\u001b[0;34m(\u001b[0m\u001b[0mdf\u001b[0m\u001b[0;34m)\u001b[0m\u001b[0;34m\u001b[0m\u001b[0;34m\u001b[0m\u001b[0m\n\u001b[1;32m     31\u001b[0m     \u001b[0mdf\u001b[0m \u001b[0;34m=\u001b[0m \u001b[0mdf\u001b[0m\u001b[0;34m.\u001b[0m\u001b[0mmerge\u001b[0m\u001b[0;34m(\u001b[0m\u001b[0mpreprocess_df\u001b[0m\u001b[0;34m,\u001b[0m \u001b[0mon\u001b[0m \u001b[0;34m=\u001b[0m \u001b[0;34m'name_full_clean'\u001b[0m\u001b[0;34m,\u001b[0m \u001b[0mhow\u001b[0m \u001b[0;34m=\u001b[0m \u001b[0;34m'left'\u001b[0m\u001b[0;34m)\u001b[0m\u001b[0;34m\u001b[0m\u001b[0;34m\u001b[0m\u001b[0m\n",
            "\u001b[0;32m/usr/local/lib/python3.7/dist-packages/pandas/io/parsers.py\u001b[0m in \u001b[0;36mread_csv\u001b[0;34m(filepath_or_buffer, sep, delimiter, header, names, index_col, usecols, squeeze, prefix, mangle_dupe_cols, dtype, engine, converters, true_values, false_values, skipinitialspace, skiprows, skipfooter, nrows, na_values, keep_default_na, na_filter, verbose, skip_blank_lines, parse_dates, infer_datetime_format, keep_date_col, date_parser, dayfirst, cache_dates, iterator, chunksize, compression, thousands, decimal, lineterminator, quotechar, quoting, doublequote, escapechar, comment, encoding, dialect, error_bad_lines, warn_bad_lines, delim_whitespace, low_memory, memory_map, float_precision)\u001b[0m\n\u001b[1;32m    686\u001b[0m     )\n\u001b[1;32m    687\u001b[0m \u001b[0;34m\u001b[0m\u001b[0m\n\u001b[0;32m--> 688\u001b[0;31m     \u001b[0;32mreturn\u001b[0m \u001b[0m_read\u001b[0m\u001b[0;34m(\u001b[0m\u001b[0mfilepath_or_buffer\u001b[0m\u001b[0;34m,\u001b[0m \u001b[0mkwds\u001b[0m\u001b[0;34m)\u001b[0m\u001b[0;34m\u001b[0m\u001b[0;34m\u001b[0m\u001b[0m\n\u001b[0m\u001b[1;32m    689\u001b[0m \u001b[0;34m\u001b[0m\u001b[0m\n\u001b[1;32m    690\u001b[0m \u001b[0;34m\u001b[0m\u001b[0m\n",
            "\u001b[0;32m/usr/local/lib/python3.7/dist-packages/pandas/io/parsers.py\u001b[0m in \u001b[0;36m_read\u001b[0;34m(filepath_or_buffer, kwds)\u001b[0m\n\u001b[1;32m    452\u001b[0m \u001b[0;34m\u001b[0m\u001b[0m\n\u001b[1;32m    453\u001b[0m     \u001b[0;31m# Create the parser.\u001b[0m\u001b[0;34m\u001b[0m\u001b[0;34m\u001b[0m\u001b[0;34m\u001b[0m\u001b[0m\n\u001b[0;32m--> 454\u001b[0;31m     \u001b[0mparser\u001b[0m \u001b[0;34m=\u001b[0m \u001b[0mTextFileReader\u001b[0m\u001b[0;34m(\u001b[0m\u001b[0mfp_or_buf\u001b[0m\u001b[0;34m,\u001b[0m \u001b[0;34m**\u001b[0m\u001b[0mkwds\u001b[0m\u001b[0;34m)\u001b[0m\u001b[0;34m\u001b[0m\u001b[0;34m\u001b[0m\u001b[0m\n\u001b[0m\u001b[1;32m    455\u001b[0m \u001b[0;34m\u001b[0m\u001b[0m\n\u001b[1;32m    456\u001b[0m     \u001b[0;32mif\u001b[0m \u001b[0mchunksize\u001b[0m \u001b[0;32mor\u001b[0m \u001b[0miterator\u001b[0m\u001b[0;34m:\u001b[0m\u001b[0;34m\u001b[0m\u001b[0;34m\u001b[0m\u001b[0m\n",
            "\u001b[0;32m/usr/local/lib/python3.7/dist-packages/pandas/io/parsers.py\u001b[0m in \u001b[0;36m__init__\u001b[0;34m(self, f, engine, **kwds)\u001b[0m\n\u001b[1;32m    946\u001b[0m             \u001b[0mself\u001b[0m\u001b[0;34m.\u001b[0m\u001b[0moptions\u001b[0m\u001b[0;34m[\u001b[0m\u001b[0;34m\"has_index_names\"\u001b[0m\u001b[0;34m]\u001b[0m \u001b[0;34m=\u001b[0m \u001b[0mkwds\u001b[0m\u001b[0;34m[\u001b[0m\u001b[0;34m\"has_index_names\"\u001b[0m\u001b[0;34m]\u001b[0m\u001b[0;34m\u001b[0m\u001b[0;34m\u001b[0m\u001b[0m\n\u001b[1;32m    947\u001b[0m \u001b[0;34m\u001b[0m\u001b[0m\n\u001b[0;32m--> 948\u001b[0;31m         \u001b[0mself\u001b[0m\u001b[0;34m.\u001b[0m\u001b[0m_make_engine\u001b[0m\u001b[0;34m(\u001b[0m\u001b[0mself\u001b[0m\u001b[0;34m.\u001b[0m\u001b[0mengine\u001b[0m\u001b[0;34m)\u001b[0m\u001b[0;34m\u001b[0m\u001b[0;34m\u001b[0m\u001b[0m\n\u001b[0m\u001b[1;32m    949\u001b[0m \u001b[0;34m\u001b[0m\u001b[0m\n\u001b[1;32m    950\u001b[0m     \u001b[0;32mdef\u001b[0m \u001b[0mclose\u001b[0m\u001b[0;34m(\u001b[0m\u001b[0mself\u001b[0m\u001b[0;34m)\u001b[0m\u001b[0;34m:\u001b[0m\u001b[0;34m\u001b[0m\u001b[0;34m\u001b[0m\u001b[0m\n",
            "\u001b[0;32m/usr/local/lib/python3.7/dist-packages/pandas/io/parsers.py\u001b[0m in \u001b[0;36m_make_engine\u001b[0;34m(self, engine)\u001b[0m\n\u001b[1;32m   1178\u001b[0m     \u001b[0;32mdef\u001b[0m \u001b[0m_make_engine\u001b[0m\u001b[0;34m(\u001b[0m\u001b[0mself\u001b[0m\u001b[0;34m,\u001b[0m \u001b[0mengine\u001b[0m\u001b[0;34m=\u001b[0m\u001b[0;34m\"c\"\u001b[0m\u001b[0;34m)\u001b[0m\u001b[0;34m:\u001b[0m\u001b[0;34m\u001b[0m\u001b[0;34m\u001b[0m\u001b[0m\n\u001b[1;32m   1179\u001b[0m         \u001b[0;32mif\u001b[0m \u001b[0mengine\u001b[0m \u001b[0;34m==\u001b[0m \u001b[0;34m\"c\"\u001b[0m\u001b[0;34m:\u001b[0m\u001b[0;34m\u001b[0m\u001b[0;34m\u001b[0m\u001b[0m\n\u001b[0;32m-> 1180\u001b[0;31m             \u001b[0mself\u001b[0m\u001b[0;34m.\u001b[0m\u001b[0m_engine\u001b[0m \u001b[0;34m=\u001b[0m \u001b[0mCParserWrapper\u001b[0m\u001b[0;34m(\u001b[0m\u001b[0mself\u001b[0m\u001b[0;34m.\u001b[0m\u001b[0mf\u001b[0m\u001b[0;34m,\u001b[0m \u001b[0;34m**\u001b[0m\u001b[0mself\u001b[0m\u001b[0;34m.\u001b[0m\u001b[0moptions\u001b[0m\u001b[0;34m)\u001b[0m\u001b[0;34m\u001b[0m\u001b[0;34m\u001b[0m\u001b[0m\n\u001b[0m\u001b[1;32m   1181\u001b[0m         \u001b[0;32melse\u001b[0m\u001b[0;34m:\u001b[0m\u001b[0;34m\u001b[0m\u001b[0;34m\u001b[0m\u001b[0m\n\u001b[1;32m   1182\u001b[0m             \u001b[0;32mif\u001b[0m \u001b[0mengine\u001b[0m \u001b[0;34m==\u001b[0m \u001b[0;34m\"python\"\u001b[0m\u001b[0;34m:\u001b[0m\u001b[0;34m\u001b[0m\u001b[0;34m\u001b[0m\u001b[0m\n",
            "\u001b[0;32m/usr/local/lib/python3.7/dist-packages/pandas/io/parsers.py\u001b[0m in \u001b[0;36m__init__\u001b[0;34m(self, src, **kwds)\u001b[0m\n\u001b[1;32m   2008\u001b[0m         \u001b[0mkwds\u001b[0m\u001b[0;34m[\u001b[0m\u001b[0;34m\"usecols\"\u001b[0m\u001b[0;34m]\u001b[0m \u001b[0;34m=\u001b[0m \u001b[0mself\u001b[0m\u001b[0;34m.\u001b[0m\u001b[0musecols\u001b[0m\u001b[0;34m\u001b[0m\u001b[0;34m\u001b[0m\u001b[0m\n\u001b[1;32m   2009\u001b[0m \u001b[0;34m\u001b[0m\u001b[0m\n\u001b[0;32m-> 2010\u001b[0;31m         \u001b[0mself\u001b[0m\u001b[0;34m.\u001b[0m\u001b[0m_reader\u001b[0m \u001b[0;34m=\u001b[0m \u001b[0mparsers\u001b[0m\u001b[0;34m.\u001b[0m\u001b[0mTextReader\u001b[0m\u001b[0;34m(\u001b[0m\u001b[0msrc\u001b[0m\u001b[0;34m,\u001b[0m \u001b[0;34m**\u001b[0m\u001b[0mkwds\u001b[0m\u001b[0;34m)\u001b[0m\u001b[0;34m\u001b[0m\u001b[0;34m\u001b[0m\u001b[0m\n\u001b[0m\u001b[1;32m   2011\u001b[0m         \u001b[0mself\u001b[0m\u001b[0;34m.\u001b[0m\u001b[0munnamed_cols\u001b[0m \u001b[0;34m=\u001b[0m \u001b[0mself\u001b[0m\u001b[0;34m.\u001b[0m\u001b[0m_reader\u001b[0m\u001b[0;34m.\u001b[0m\u001b[0munnamed_cols\u001b[0m\u001b[0;34m\u001b[0m\u001b[0;34m\u001b[0m\u001b[0m\n\u001b[1;32m   2012\u001b[0m \u001b[0;34m\u001b[0m\u001b[0m\n",
            "\u001b[0;32mpandas/_libs/parsers.pyx\u001b[0m in \u001b[0;36mpandas._libs.parsers.TextReader.__cinit__\u001b[0;34m()\u001b[0m\n",
            "\u001b[0;32mpandas/_libs/parsers.pyx\u001b[0m in \u001b[0;36mpandas._libs.parsers.TextReader._setup_parser_source\u001b[0;34m()\u001b[0m\n",
            "\u001b[0;31mFileNotFoundError\u001b[0m: [Errno 2] No such file or directory: '/content/drive/MyDrive/Corporate_Climate_Name_To_Race/preprocess/preprocess_names_full.csv'"
          ]
        }
      ]
    },
    {
      "cell_type": "code",
      "metadata": {
        "id": "V-0_Je8JUWE6"
      },
      "source": [
        "scoring(preprocessed_cascade_1.dropna(subset=['preprocessed_cascade_prediction']),'race','preprocessed_cascade_prediction')"
      ],
      "execution_count": null,
      "outputs": []
    },
    {
      "cell_type": "markdown",
      "metadata": {
        "id": "kgMPQatuofqT"
      },
      "source": [
        "As we can see here the accuracy, recall, and precision all improved substantially. Average Accuracy is 0.2 higher (before it was 0.69).  \n",
        "\\** *note that these results are a bit exaggerated as our testing data was part of the preprocessed dataset as well* "
      ]
    },
    {
      "cell_type": "markdown",
      "metadata": {
        "id": "E_pU71U9oOjI"
      },
      "source": [
        "#### 'preprocessed' vs 'not preprocessed' names"
      ]
    },
    {
      "cell_type": "code",
      "metadata": {
        "id": "MpNupOZZULjN"
      },
      "source": [
        "#sanity check - all preprocessed names should be score of 1 \n",
        "scoring(preprocessed_cascade_1[preprocessed_cascade_1['preprocessed_race'].notnull()].dropna(subset=['preprocessed_cascade_prediction']),'race','preprocessed_cascade_prediction')"
      ],
      "execution_count": null,
      "outputs": []
    },
    {
      "cell_type": "code",
      "metadata": {
        "id": "A6ikjka_NjMB"
      },
      "source": [
        "scoring(preprocessed_cascade_1[preprocessed_cascade_1['preprocessed_race'].isnull()].dropna(subset=['preprocessed_cascade_prediction']),'race','preprocessed_cascade_prediction')"
      ],
      "execution_count": null,
      "outputs": []
    },
    {
      "cell_type": "markdown",
      "metadata": {
        "id": "QVJ5xkwsLqIl"
      },
      "source": [
        "## Cascade Model 1 (or statement at first) \n"
      ]
    },
    {
      "cell_type": "markdown",
      "metadata": {
        "id": "-U_O2iw7o4gq"
      },
      "source": [
        "I wanted to see if we could naturally capture more 'white' names at first so that fewer are bucketed to asian at the end. This model is the same as the above model with the exception that we used 'or' instead of 'and' to make the 'white other' classification at the first step. "
      ]
    },
    {
      "cell_type": "code",
      "metadata": {
        "id": "_LCWi72xLqIl"
      },
      "source": [
        "cascade_1_or = cascaded_predictor_1_or(cascade_df)\n",
        "help(cascaded_predictor_1_or)"
      ],
      "execution_count": null,
      "outputs": []
    },
    {
      "cell_type": "code",
      "metadata": {
        "id": "0hfRkBvALqIm"
      },
      "source": [
        "print('Cascade 1 with or statement')\n",
        "sns.set_palette('viridis_r')\n",
        "\n",
        "distribution_plot(cascade_1_or,'cascade_prediction')"
      ],
      "execution_count": null,
      "outputs": []
    },
    {
      "cell_type": "code",
      "metadata": {
        "id": "2VgfXIq6LqIm"
      },
      "source": [
        "scoring(cascade_1_or,'race','cascade_prediction')"
      ],
      "execution_count": null,
      "outputs": []
    },
    {
      "cell_type": "markdown",
      "metadata": {
        "id": "EP2PrFX0pDrZ"
      },
      "source": [
        "As we can see here, asian names are now **underclassified,** as are black names. "
      ]
    },
    {
      "cell_type": "markdown",
      "metadata": {
        "id": "Z857qVzipQBn"
      },
      "source": [
        "### Preprocessed Cascade 1 (or)"
      ]
    },
    {
      "cell_type": "code",
      "metadata": {
        "id": "M0l0VZm3pQBn"
      },
      "source": [
        "preprocessed_cascade_1_or = cascaded_predictor_1_or(cascade_df, preprocess=True)\n",
        "sns.set_palette('viridis')\n",
        "print('Preprocessed Cascade 1')\n",
        "distribution_plot(preprocessed_cascade_1_or,'preprocessed_cascade_prediction')"
      ],
      "execution_count": null,
      "outputs": []
    },
    {
      "cell_type": "code",
      "metadata": {
        "id": "LrK396wMpQBn"
      },
      "source": [
        "scoring(preprocessed_cascade_1_or.dropna(subset=['preprocessed_cascade_prediction']),'race','preprocessed_cascade_prediction')"
      ],
      "execution_count": null,
      "outputs": []
    },
    {
      "cell_type": "markdown",
      "metadata": {
        "id": "d8iFGZfipQBo"
      },
      "source": [
        "As we can see here the accuracy, recall, and precision all improved substantially (especially for asian and black names). Average Accuracy is 0.2 higher (before it was 0.70). \n",
        "\n",
        "\\** *note that these results are a bit exaggerated as our testing data was part of the preprocessed dataset as well* \n"
      ]
    },
    {
      "cell_type": "markdown",
      "metadata": {
        "id": "mv4f-ygFpQBo"
      },
      "source": [
        "#### 'preprocessed' vs 'not preprocessed' names"
      ]
    },
    {
      "cell_type": "code",
      "metadata": {
        "id": "YFuA5bykpQBo"
      },
      "source": [
        "#sanity check - all preprocessed names should be score of 1 \n",
        "scoring(preprocessed_cascade_1_or[preprocessed_cascade_1_or['preprocessed_race'].notnull()].dropna(subset=['preprocessed_cascade_prediction']),'race','preprocessed_cascade_prediction')"
      ],
      "execution_count": null,
      "outputs": []
    },
    {
      "cell_type": "code",
      "metadata": {
        "id": "c-DKsSnJpQBo"
      },
      "source": [
        "scoring(preprocessed_cascade_1_or[preprocessed_cascade_1_or['preprocessed_race'].isnull()].dropna(subset=['preprocessed_cascade_prediction']),'race','preprocessed_cascade_prediction')"
      ],
      "execution_count": null,
      "outputs": []
    },
    {
      "cell_type": "markdown",
      "metadata": {
        "id": "pSItJsTKIe1q"
      },
      "source": [
        "## Cascade Model 2"
      ]
    },
    {
      "cell_type": "markdown",
      "metadata": {
        "id": "22Xum-_wsyq2"
      },
      "source": [
        "We also wanted to look at a direct differentiation with white and black. Thus this model starts with asian names and then moves on to white vs black category in the end, as this is the hardest to classify between and we want to isolate out asian and hispanic names accurately. \n",
        "\n",
        "The first step (combined oversample and namsor for asian vs non asian) used classifiers with high recall. "
      ]
    },
    {
      "cell_type": "code",
      "metadata": {
        "id": "MjsflVvdO7Ha"
      },
      "source": [
        "cascade_2 = cascaded_predictor_2(cascade_df)\n",
        "help(cascaded_predictor_2)\n",
        "print('Cascade Model 2')\n",
        "distribution_plot(cascade_2,'cascade_prediction')"
      ],
      "execution_count": null,
      "outputs": []
    },
    {
      "cell_type": "code",
      "metadata": {
        "id": "jt1ovCD_PR-L"
      },
      "source": [
        "scoring(cascade_2,'race','cascade_prediction')"
      ],
      "execution_count": null,
      "outputs": []
    },
    {
      "cell_type": "markdown",
      "metadata": {
        "id": "xFDJt4IYrmfB"
      },
      "source": [
        "This model seems to overly categorize Black names, noted by the low precision. Also, Asian names are not very well classified. "
      ]
    },
    {
      "cell_type": "markdown",
      "metadata": {
        "id": "6hAnwoO-qb2B"
      },
      "source": [
        "### Preprocessed Cascade 2"
      ]
    },
    {
      "cell_type": "code",
      "metadata": {
        "id": "BTGi_3iXqb2B"
      },
      "source": [
        "preprocessed_cascade_2 = cascaded_predictor_2(cascade_df, preprocess=True)\n",
        "sns.set_palette('viridis')\n",
        "print('Preprocessed Cascade 1')\n",
        "distribution_plot(preprocessed_cascade_2,'preprocessed_cascade_prediction')"
      ],
      "execution_count": null,
      "outputs": []
    },
    {
      "cell_type": "code",
      "metadata": {
        "id": "Zy0Qz5ysqb2C"
      },
      "source": [
        "scoring(preprocessed_cascade_2.dropna(subset=['preprocessed_cascade_prediction']),'race','preprocessed_cascade_prediction')"
      ],
      "execution_count": null,
      "outputs": []
    },
    {
      "cell_type": "markdown",
      "metadata": {
        "id": "AviJZmjkqb2C"
      },
      "source": [
        "Once more this improves results greatly - though this preprocessed model is not as good as cascade model 1; precision at 0.73 isn't quite as high for Black names (As for preprocessed models for cascade 1 and cascade 1 with preprocessing) \n",
        "\n",
        "\\** *note that these results are a bit exaggerated as our testing data was part of the preprocessed dataset as well* \n"
      ]
    },
    {
      "cell_type": "markdown",
      "metadata": {
        "id": "amBWp3Cmqb2C"
      },
      "source": [
        "#### 'preprocessed' vs 'not preprocessed' names"
      ]
    },
    {
      "cell_type": "code",
      "metadata": {
        "id": "_jC8r5-kqb2C"
      },
      "source": [
        "#sanity check - all preprocessed names should be score of 1 \n",
        "scoring(preprocessed_cascade_2[preprocessed_cascade_2['preprocessed_race'].notnull()].dropna(subset=['preprocessed_cascade_prediction']),'race','preprocessed_cascade_prediction')"
      ],
      "execution_count": null,
      "outputs": []
    },
    {
      "cell_type": "code",
      "metadata": {
        "id": "4SE_hFC5qb2C"
      },
      "source": [
        "scoring(preprocessed_cascade_2[preprocessed_cascade_2['preprocessed_race'].isnull()].dropna(subset=['preprocessed_cascade_prediction']),'race','preprocessed_cascade_prediction')"
      ],
      "execution_count": null,
      "outputs": []
    },
    {
      "cell_type": "markdown",
      "metadata": {
        "id": "6axMerqVeQYs"
      },
      "source": [
        "## Cascade Model 3"
      ]
    },
    {
      "cell_type": "markdown",
      "metadata": {
        "id": "4xQHToqvjZ54"
      },
      "source": [
        "Same as cascade model 2 but with inmate as the last step because inmate has very good recall for classifying Black names "
      ]
    },
    {
      "cell_type": "code",
      "metadata": {
        "colab": {
          "base_uri": "https://localhost:8080/",
          "height": 450
        },
        "id": "LjmRtgM3eQYt",
        "outputId": "0009a6bd-3ede-40e0-b245-9069d5751744"
      },
      "source": [
        "cascade_3 = cascaded_predictor_3(cascade_df)\n",
        "sns.set_palette('viridis_r')\n",
        "help(cascaded_predictor_3)\n",
        "print('Cascade 3')\n",
        "distribution_plot(cascade_3,'cascade_prediction')"
      ],
      "execution_count": null,
      "outputs": [
        {
          "output_type": "stream",
          "name": "stdout",
          "text": [
            "Help on function cascaded_predictor_3 in module __main__:\n",
            "\n",
            "cascaded_predictor_3(df, preprocess=False)\n",
            "    Function to compile cascade \n",
            "    Asian/NonAsian (combined_oversample_race & namsor) -> \n",
            "    Hispanic/Non-Hispanic (LR-Oversample & namsor) -> \n",
            "    Black/White (inmate & namsor)\n",
            "\n",
            "Cascade 3\n"
          ]
        },
        {
          "output_type": "execute_result",
          "data": {
            "text/plain": [
              "<matplotlib.axes._subplots.AxesSubplot at 0x7f4f93df1b50>"
            ]
          },
          "metadata": {},
          "execution_count": 32
        },
        {
          "output_type": "display_data",
          "data": {
            "image/png": "[encoded data removed]",
            "text/plain": [
              "<Figure size 432x288 with 1 Axes>"
            ]
          },
          "metadata": {
            "needs_background": "light"
          }
        }
      ]
    },
    {
      "cell_type": "code",
      "metadata": {
        "colab": {
          "base_uri": "https://localhost:8080/"
        },
        "id": "zTCwM-M2eQYt",
        "outputId": "a5e8f2a7-e5e8-449f-8047-f4805bc82a26"
      },
      "source": [
        "scoring(cascade_3,'race','cascade_prediction')"
      ],
      "execution_count": null,
      "outputs": [
        {
          "output_type": "stream",
          "name": "stdout",
          "text": [
            "[0.66519791 0.55909589 0.83762984 0.85459417]\n",
            "[0.54787395 0.55815947 0.83121586 0.86223547]\n",
            "0.8054139932135859\n"
          ]
        }
      ]
    },
    {
      "cell_type": "markdown",
      "metadata": {
        "id": "nvS42KlHse6l"
      },
      "source": [
        "This one is naturally quite good (once more the recall for asian and black isn't quite as good)."
      ]
    },
    {
      "cell_type": "markdown",
      "metadata": {
        "id": "L0b9ZlA-siMD"
      },
      "source": [
        "### Preprocessed Cascade 3"
      ]
    },
    {
      "cell_type": "code",
      "metadata": {
        "id": "IJ3Qt-_esiME"
      },
      "source": [
        "preprocessed_cascade_3 = cascaded_predictor_3(cascade_df, preprocess=True)\n",
        "sns.set_palette('viridis')\n",
        "print('Preprocessed Cascade 3')\n",
        "distribution_plot(preprocessed_cascade_3,'preprocessed_cascade_prediction')"
      ],
      "execution_count": null,
      "outputs": []
    },
    {
      "cell_type": "code",
      "metadata": {
        "id": "jzQjzu6bsiME"
      },
      "source": [
        "scoring(preprocessed_cascade_3.dropna(subset=['preprocessed_cascade_prediction']),'race','preprocessed_cascade_prediction')"
      ],
      "execution_count": null,
      "outputs": []
    },
    {
      "cell_type": "markdown",
      "metadata": {
        "id": "sip_2a2msiME"
      },
      "source": [
        "This is our highest yet average accuracy. Note that the recall and precision for Black names is quite good and the precision is the highest it's been thus far. \n",
        "\n",
        "\\** *note that these results are a bit exaggerated as our testing data was part of the preprocessed dataset as well* \n"
      ]
    },
    {
      "cell_type": "markdown",
      "metadata": {
        "id": "r7lxatWFsiMF"
      },
      "source": [
        "#### 'preprocessed' vs 'not preprocessed' names"
      ]
    },
    {
      "cell_type": "code",
      "metadata": {
        "id": "3cGAV0ZosiMF"
      },
      "source": [
        "#sanity check - all preprocessed names should be score of 1 \n",
        "scoring(preprocessed_cascade_3[preprocessed_cascade_3['preprocessed_race'].notnull()].dropna(subset=['preprocessed_cascade_prediction']),'race','preprocessed_cascade_prediction')"
      ],
      "execution_count": null,
      "outputs": []
    },
    {
      "cell_type": "code",
      "metadata": {
        "id": "eUxZE6KrsiMF"
      },
      "source": [
        "scoring(preprocessed_cascade_3[preprocessed_cascade_3['preprocessed_race'].isnull()].dropna(subset=['preprocessed_cascade_prediction']),'race','preprocessed_cascade_prediction')"
      ],
      "execution_count": null,
      "outputs": []
    },
    {
      "cell_type": "markdown",
      "metadata": {
        "id": "IN1WeUsfIxw0"
      },
      "source": [
        "## Cascade Model 4"
      ]
    },
    {
      "cell_type": "markdown",
      "metadata": {
        "id": "bHAnCiP4vQ3g"
      },
      "source": [
        "This one differs from cascade models 2 and 3 by using high-precision models to classify asian vs non asian at the first step (still asian -> white)"
      ]
    },
    {
      "cell_type": "code",
      "metadata": {
        "id": "VfdKU0T6Ixw0"
      },
      "source": [
        "cascade_4 = cascaded_predictor_4(cascade_df)\n",
        "sns.set_palette('viridis_r')\n",
        "help(cascaded_predictor_4)\n",
        "print('Model 2.3: Cascade Asian -> White')\n",
        "distribution_plot(cascade_4,'cascade_prediction')"
      ],
      "execution_count": null,
      "outputs": []
    },
    {
      "cell_type": "code",
      "metadata": {
        "id": "a41bJZp_Ixw0"
      },
      "source": [
        "scoring(cascade_4,'race','cascade_prediction')"
      ],
      "execution_count": null,
      "outputs": []
    },
    {
      "cell_type": "markdown",
      "metadata": {
        "id": "KbZICcmbvdJ1"
      },
      "source": [
        "this model has high average accuracy, but the precision and accuracy for classifying asian names is not very good. Similarly, the outcomes for Black names are at 0.55 precision and recall. "
      ]
    },
    {
      "cell_type": "markdown",
      "metadata": {
        "id": "fuBdoNVNuITa"
      },
      "source": [
        "### Preprocessed Cascade 4"
      ]
    },
    {
      "cell_type": "code",
      "metadata": {
        "id": "vsNkwUxFuITb"
      },
      "source": [
        "preprocessed_cascade_4 = cascaded_predictor_4(cascade_df, preprocess=True)\n",
        "sns.set_palette('viridis')\n",
        "print('Preprocessed Cascade 4')\n",
        "distribution_plot(preprocessed_cascade_4,'preprocessed_cascade_prediction')"
      ],
      "execution_count": null,
      "outputs": []
    },
    {
      "cell_type": "code",
      "metadata": {
        "id": "EMhJ1eXWuITb"
      },
      "source": [
        "scoring(preprocessed_cascade_4.dropna(subset=['preprocessed_cascade_prediction']),'race','preprocessed_cascade_prediction')"
      ],
      "execution_count": null,
      "outputs": []
    },
    {
      "cell_type": "markdown",
      "metadata": {
        "id": "8m313GIvvpol"
      },
      "source": [
        "This model is also quite good, with similar outcomes to the previous model. Precision and recall for asian names are a bit lower because not a lot of additional asian names were found. This may not be a bad thing however, as potentially many of the asian names identified in our cascade can also be preprocessed out naturally.  "
      ]
    },
    {
      "cell_type": "markdown",
      "metadata": {
        "id": "DKEv4--uuITb"
      },
      "source": [
        "#### 'preprocessed' vs 'not preprocessed' names"
      ]
    },
    {
      "cell_type": "code",
      "metadata": {
        "id": "1y24rb0KuITb"
      },
      "source": [
        "#sanity check - all preprocessed names should be score of 1 \n",
        "scoring(preprocessed_cascade_4[preprocessed_cascade_4['preprocessed_race'].notnull()].dropna(subset=['preprocessed_cascade_prediction']),'race','preprocessed_cascade_prediction')"
      ],
      "execution_count": null,
      "outputs": []
    },
    {
      "cell_type": "code",
      "metadata": {
        "id": "xrzYu_EpuITc"
      },
      "source": [
        "scoring(preprocessed_cascade_4[preprocessed_cascade_4['preprocessed_race'].isnull()].dropna(subset=['preprocessed_cascade_prediction']),'race','preprocessed_cascade_prediction')"
      ],
      "execution_count": null,
      "outputs": []
    },
    {
      "cell_type": "markdown",
      "metadata": {
        "id": "rVAxo5HEf0Dr"
      },
      "source": [
        "## Cascade Model 4 (or statement at first step)"
      ]
    },
    {
      "cell_type": "markdown",
      "metadata": {
        "id": "K4oHcDsaw67z"
      },
      "source": [
        "This is Model 4 but with or statements as precision-based models tend to minimize classsifications when you also use 'and' statements."
      ]
    },
    {
      "cell_type": "code",
      "metadata": {
        "id": "Rr81w9Xof0Ds"
      },
      "source": [
        "cascade_4_or = cascaded_predictor_4_or(cascade_df)\n",
        "sns.set_palette('viridis_r')\n",
        "help(cascaded_predictor_4_or)\n",
        "distribution_plot(cascade_4_or,'cascade_prediction')"
      ],
      "execution_count": null,
      "outputs": []
    },
    {
      "cell_type": "code",
      "metadata": {
        "id": "7Dh-wPbLf0Ds"
      },
      "source": [
        "scoring(cascade_4_or,'race','cascade_prediction')"
      ],
      "execution_count": null,
      "outputs": []
    },
    {
      "cell_type": "markdown",
      "metadata": {
        "id": "qKf2BVQIxIhe"
      },
      "source": [
        "this model doesn't appear to have particularly high recall or precision naturally. The precision further is actually much lower than for cascade 2 and 3, where the first step was based on top performing recall models (asian vs non asian) "
      ]
    },
    {
      "cell_type": "markdown",
      "metadata": {
        "id": "tHnR0ZLtwEsU"
      },
      "source": [
        "### Preprocessed Cascade 4"
      ]
    },
    {
      "cell_type": "code",
      "metadata": {
        "id": "KrG-MDaFwEsV"
      },
      "source": [
        "preprocessed_cascade_4_or = cascaded_predictor_4_or(cascade_df, preprocess=True)\n",
        "sns.set_palette('viridis')\n",
        "print('Preprocessed Cascade 4 (or statement)')\n",
        "distribution_plot(preprocessed_cascade_4_or,'preprocessed_cascade_prediction')"
      ],
      "execution_count": null,
      "outputs": []
    },
    {
      "cell_type": "code",
      "metadata": {
        "id": "znM6TKn7wEsV"
      },
      "source": [
        "scoring(preprocessed_cascade_4_or.dropna(subset=['preprocessed_cascade_prediction']),'race','preprocessed_cascade_prediction')"
      ],
      "execution_count": null,
      "outputs": []
    },
    {
      "cell_type": "markdown",
      "metadata": {
        "id": "rAZKdqUwwEsW"
      },
      "source": [
        ""
      ]
    },
    {
      "cell_type": "markdown",
      "metadata": {
        "id": "dWpJ61FTwEsW"
      },
      "source": [
        "#### 'preprocessed' vs 'not preprocessed' names"
      ]
    },
    {
      "cell_type": "code",
      "metadata": {
        "id": "AjwUOp8MwEsW"
      },
      "source": [
        "#sanity check - all preprocessed names should be score of 1 \n",
        "scoring(preprocessed_cascade_4_or[preprocessed_cascade_4_or['preprocessed_race'].notnull()].dropna(subset=['preprocessed_cascade_prediction']),'race','preprocessed_cascade_prediction')"
      ],
      "execution_count": null,
      "outputs": []
    },
    {
      "cell_type": "code",
      "metadata": {
        "id": "YhTkGU1ywEsW"
      },
      "source": [
        "scoring(preprocessed_cascade_4_or[preprocessed_cascade_4_or['preprocessed_race'].isnull()].dropna(subset=['preprocessed_cascade_prediction']),'race','preprocessed_cascade_prediction')"
      ],
      "execution_count": null,
      "outputs": []
    },
    {
      "cell_type": "markdown",
      "metadata": {
        "id": "QTyKhESwKsj9"
      },
      "source": [
        "## Run Cascade Model 5"
      ]
    },
    {
      "cell_type": "code",
      "metadata": {
        "id": "8e5Al_M8Ksj-"
      },
      "source": [
        "cascade_5 = cascaded_predictor_5(cascade_df)\n",
        "sns.set_palette('viridis_r')\n",
        "\n",
        "help(cascaded_predictor_5)\n",
        "print('Cascade ')\n",
        "distribution_plot(cascade_5,'cascade_prediction')"
      ],
      "execution_count": null,
      "outputs": []
    },
    {
      "cell_type": "code",
      "metadata": {
        "id": "EoatphKKKsj_"
      },
      "source": [
        "scoring(cascade_5,'race','cascade_prediction')"
      ],
      "execution_count": null,
      "outputs": []
    },
    {
      "cell_type": "markdown",
      "metadata": {
        "id": "Hr3qu4mTyHbB"
      },
      "source": [
        ""
      ]
    },
    {
      "cell_type": "markdown",
      "metadata": {
        "id": "CzSnXFl5yKGU"
      },
      "source": [
        "### Preprocessed Cascade 5"
      ]
    },
    {
      "cell_type": "code",
      "metadata": {
        "id": "IrfC43dJyKGU"
      },
      "source": [
        "preprocessed_cascade_5 = cascaded_predictor_5(cascade_df, preprocess=True)\n",
        "sns.set_palette('viridis')\n",
        "print('Preprocessed Cascade 4 (or statement)')\n",
        "distribution_plot(preprocessed_cascade_5,'preprocessed_cascade_prediction')"
      ],
      "execution_count": null,
      "outputs": []
    },
    {
      "cell_type": "code",
      "metadata": {
        "id": "FBCq-phZyKGU"
      },
      "source": [
        "scoring(preprocessed_cascade_5.dropna(subset=['preprocessed_cascade_prediction']),'race','preprocessed_cascade_prediction')"
      ],
      "execution_count": null,
      "outputs": []
    },
    {
      "cell_type": "markdown",
      "metadata": {
        "id": "94pnWocXyKGU"
      },
      "source": [
        ""
      ]
    },
    {
      "cell_type": "markdown",
      "metadata": {
        "id": "gnmP4Y9kyKGU"
      },
      "source": [
        "#### 'preprocessed' vs 'not preprocessed' names"
      ]
    },
    {
      "cell_type": "code",
      "metadata": {
        "id": "oDMYkXUCyKGV"
      },
      "source": [
        "#sanity check - all preprocessed names should be score of 1 \n",
        "scoring(preprocessed_cascade_5[preprocessed_cascade_5['preprocessed_race'].notnull()].dropna(subset=['preprocessed_cascade_prediction']),'race','preprocessed_cascade_prediction')"
      ],
      "execution_count": null,
      "outputs": []
    },
    {
      "cell_type": "code",
      "metadata": {
        "id": "p2jA_L2myKGV"
      },
      "source": [
        "scoring(preprocessed_cascade_5[preprocessed_cascade_5['preprocessed_race'].isnull()].dropna(subset=['preprocessed_cascade_prediction']),'race','preprocessed_cascade_prediction')"
      ],
      "execution_count": null,
      "outputs": []
    },
    {
      "cell_type": "markdown",
      "metadata": {
        "id": "UN8Iv9o5Med7"
      },
      "source": [
        "## Cascade Model 5 (or statement at first step)"
      ]
    },
    {
      "cell_type": "code",
      "metadata": {
        "id": "pc5W-naiMed7"
      },
      "source": [
        "cascade_5_or = cascaded_predictor_5_or(cascade_df)\n",
        "sns.set_palette('viridis_r')\n",
        "help(cascaded_predictor_5_or)\n",
        "print('Model 2.4: Cascade Black -> Asian')\n",
        "distribution_plot(cascade_5_or,'cascade_prediction')"
      ],
      "execution_count": null,
      "outputs": []
    },
    {
      "cell_type": "code",
      "metadata": {
        "id": "Ld-DDfU7ae5C"
      },
      "source": [
        "scoring(cascade_5_or,'race','cascade_prediction')"
      ],
      "execution_count": null,
      "outputs": []
    },
    {
      "cell_type": "markdown",
      "metadata": {
        "id": "d6KCU_LAx1Jw"
      },
      "source": [
        ""
      ]
    },
    {
      "cell_type": "markdown",
      "metadata": {
        "id": "OBWG18jOx1R_"
      },
      "source": [
        "### Preprocessed Cascade 5 (or statement at first step) "
      ]
    },
    {
      "cell_type": "code",
      "metadata": {
        "id": "18GFjYTCx1R_"
      },
      "source": [
        "preprocessed_cascade_5_or = cascaded_predictor_5_or(cascade_df, preprocess=True)\n",
        "sns.set_palette('viridis')\n",
        "print('Preprocessed Cascade 5 (or statement)')\n",
        "distribution_plot(preprocessed_cascade_5_or,'preprocessed_cascade_prediction')"
      ],
      "execution_count": null,
      "outputs": []
    },
    {
      "cell_type": "code",
      "metadata": {
        "id": "o0H9QdZ8x1SA"
      },
      "source": [
        "scoring(preprocessed_cascade_5_or.dropna(subset=['preprocessed_cascade_prediction']),'race','preprocessed_cascade_prediction')"
      ],
      "execution_count": null,
      "outputs": []
    },
    {
      "cell_type": "markdown",
      "metadata": {
        "id": "G2U9jtaVx1SA"
      },
      "source": [
        ""
      ]
    },
    {
      "cell_type": "markdown",
      "metadata": {
        "id": "AYS2Hgjex1SA"
      },
      "source": [
        "#### 'preprocessed' vs 'not preprocessed' names"
      ]
    },
    {
      "cell_type": "code",
      "metadata": {
        "id": "Pm3YPoeQx1SA"
      },
      "source": [
        "#sanity check - all preprocessed names should be score of 1 \n",
        "scoring(preprocessed_cascade_5_or[preprocessed_cascade_4_or['preprocessed_race'].notnull()].dropna(subset=['preprocessed_cascade_prediction']),'race','preprocessed_cascade_prediction')"
      ],
      "execution_count": null,
      "outputs": []
    },
    {
      "cell_type": "code",
      "metadata": {
        "id": "T7edT_cQx1SA"
      },
      "source": [
        "scoring(preprocessed_cascade_5_or[preprocessed_cascade_4_or['preprocessed_race'].isnull()].dropna(subset=['preprocessed_cascade_prediction']),'race','preprocessed_cascade_prediction')"
      ],
      "execution_count": null,
      "outputs": []
    },
    {
      "cell_type": "code",
      "metadata": {
        "id": "O3l5rGJjzugF"
      },
      "source": [
        ""
      ],
      "execution_count": null,
      "outputs": []
    },
    {
      "cell_type": "markdown",
      "metadata": {
        "id": "E8kBf4EuzurW"
      },
      "source": [
        "## Run Cascade Model 6"
      ]
    },
    {
      "cell_type": "code",
      "metadata": {
        "colab": {
          "base_uri": "https://localhost:8080/",
          "height": 450
        },
        "id": "SJ9xCwm4zurX",
        "outputId": "7faeb5c7-4d4c-42a0-c6f5-12cfad40287d"
      },
      "source": [
        "cascade_6 = cascaded_predictor_6(cascade_df)\n",
        "sns.set_palette('viridis_r')\n",
        "\n",
        "help(cascaded_predictor_6)\n",
        "print('Cascade ')\n",
        "distribution_plot(cascade_6,'cascade_prediction')"
      ],
      "execution_count": null,
      "outputs": [
        {
          "output_type": "stream",
          "name": "stdout",
          "text": [
            "Help on function cascaded_predictor_6 in module __main__:\n",
            "\n",
            "cascaded_predictor_6(df, preprocess=False)\n",
            "    Function to compile cascade \n",
            "    Black/NonBlack (namsor & inmate) -> \n",
            "    Hispanic/Non-Hispanic (nameprism & namsor) -> \n",
            "    Asian/White (LR-Oversample & namsor)\n",
            "\n",
            "Cascade \n"
          ]
        },
        {
          "output_type": "execute_result",
          "data": {
            "text/plain": [
              "<matplotlib.axes._subplots.AxesSubplot at 0x7f4f86b92410>"
            ]
          },
          "metadata": {},
          "execution_count": 34
        },
        {
          "output_type": "display_data",
          "data": {
            "image/png": "[encoded data removed]",
            "text/plain": [
              "<Figure size 432x288 with 1 Axes>"
            ]
          },
          "metadata": {
            "needs_background": "light"
          }
        }
      ]
    },
    {
      "cell_type": "code",
      "metadata": {
        "colab": {
          "base_uri": "https://localhost:8080/"
        },
        "id": "IqA4HD6uzurX",
        "outputId": "05e61854-a9bf-4e6c-cb81-13f8b26a2c03"
      },
      "source": [
        "scoring(cascade_6,'race','cascade_prediction')"
      ],
      "execution_count": null,
      "outputs": [
        {
          "output_type": "stream",
          "name": "stdout",
          "text": [
            "[0.66519791 0.55909589 0.36974303 0.87507148]\n",
            "[0.54787395 0.55815947 0.50821569 0.8251133 ]\n",
            "0.7414971135411139\n"
          ]
        }
      ]
    },
    {
      "cell_type": "markdown",
      "metadata": {
        "id": "d__MVeKHzurX"
      },
      "source": [
        ""
      ]
    },
    {
      "cell_type": "markdown",
      "metadata": {
        "id": "Xeeu17OyzurX"
      },
      "source": [
        "### Preprocessed Cascade 6"
      ]
    },
    {
      "cell_type": "code",
      "metadata": {
        "id": "aGI-n1qzzurX"
      },
      "source": [
        "preprocessed_cascade_6 = cascaded_predictor_6(cascade_df, preprocess=True)\n",
        "sns.set_palette('viridis')\n",
        "print('Preprocessed Cascade 6 (or statement)')\n",
        "distribution_plot(preprocessed_cascade_6,'preprocessed_cascade_prediction')"
      ],
      "execution_count": null,
      "outputs": []
    },
    {
      "cell_type": "code",
      "metadata": {
        "id": "r7ozKj3SzurY"
      },
      "source": [
        "scoring(preprocessed_cascade_6.dropna(subset=['preprocessed_cascade_prediction']),'race','preprocessed_cascade_prediction')"
      ],
      "execution_count": null,
      "outputs": []
    }
  ]
}